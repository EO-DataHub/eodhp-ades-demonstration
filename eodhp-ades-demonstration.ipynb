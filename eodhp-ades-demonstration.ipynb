{
 "cells": [
  {
   "cell_type": "markdown",
   "id": "a94f2cc2-1bb2-4669-b1e9-1e930bd8d509",
   "metadata": {},
   "source": [
    "# Demonstrate ADES Execution for OGC Application Packages\n",
    "## This notebook runs through some example API calls to the ADES (Application, Deployment Execution Service) component of the EODH Platform"
   ]
  },
  {
   "cell_type": "code",
   "execution_count": 1,
   "id": "d22bbf8b-67e2-4116-9047-7ac822349983",
   "metadata": {},
   "outputs": [
    {
     "name": "stdout",
     "output_type": "stream",
     "text": [
      "Defaulting to user installation because normal site-packages is not writeable\n",
      "Requirement already satisfied: urllib3 in /home/tjellicoe/.local/lib/python3.9/site-packages (2.0.7)\n"
     ]
    }
   ],
   "source": [
    "!pip install urllib3"
   ]
  },
  {
   "cell_type": "code",
   "execution_count": 4,
   "id": "43579c18-97f5-4c72-83b2-08093a5354d5",
   "metadata": {},
   "outputs": [],
   "source": [
    "import json\n",
    "import time\n",
    "import urllib3\n",
    "http = urllib3.PoolManager(cert_reqs='CERT_NONE')\n",
    "urllib3.disable_warnings() ## to avoid SSL warnings"
   ]
  },
  {
   "cell_type": "code",
   "execution_count": 5,
   "id": "8ae51cdd-0237-4326-a4d0-4e07247a42a0",
   "metadata": {},
   "outputs": [],
   "source": [
    "## Define text colour for later output\n",
    "class bcolors:\n",
    "    OKBLUE = '\\033[94m'\n",
    "    OKGREEN = '\\033[92m'\n",
    "    WARNING = '\\033[93m'\n",
    "    ENDC = '\\033[0m'"
   ]
  },
  {
   "cell_type": "code",
   "execution_count": null,
   "id": "1029d684-bd93-4da1-853b-4e15e17c2370",
   "metadata": {},
   "outputs": [],
   "source": [
    "## Place your workspace-scoped API token here\n",
    "api_token = \"your-token\"\n",
    "workspace = \"workspace\" # must align with the workspace-scoped token used above\n",
    "auth_dict = {\"Authorization\": f\"Bearer {api_token}\"}"
   ]
  },
  {
   "cell_type": "markdown",
   "id": "a140c98a-cfd9-447a-8726-2f3ea6ef39b2",
   "metadata": {},
   "source": [
    "## Below are some example API requests you can make to the ADES component\n",
    "Feel free to run these examples and change the inputs by specifying the application packages, process name and process inputs.\n",
    "\n",
    "As an example we provide three EOEPCA-developed OGC Application Package to demonstrate the successful execution using the ADES deployment:\n",
    "- [convert-url](https://github.com/EOEPCA/convert/blob/main/convert-url-app.cwl) - take an image specified by a URL and resize it by a given scale percentage\n",
    "- [convert-stac](https://github.com/EOEPCA/convert/blob/main/convert-stac-app.cwl) - take an image specified by a stac item and resize it by a given scale percentage\n",
    "- [water-bodies](https://github.com/EOEPCA/deployment-guide/blob/main/deploy/samples/requests/processing/water-bodies-app.cwl) - takes STAC items, area of interest, epsg definition and set of bands and identifies water bodies based on NDWI and Otsu threshold\n",
    "\n",
    "This application is specified by configuring the below variable"
   ]
  },
  {
   "cell_type": "code",
   "execution_count": 7,
   "id": "032d4055-0724-4fd5-aac9-a1a96ed9de94",
   "metadata": {},
   "outputs": [],
   "source": [
    "process_to_be_run = \"convert-url\""
   ]
  },
  {
   "cell_type": "code",
   "execution_count": null,
   "id": "881bbcf8-8a74-4616-b5f0-2671133cc009",
   "metadata": {},
   "outputs": [],
   "source": [
    "# Update these variables as required to identify the running ades instance and specify workspace name\n",
    "# If the workspace does not yet exect, it will be created by the ades automatically\n",
    "wr_endpoint = \"prod.eodatahub.org.uk/api/catalogue/stac/catalogs/user/catalogs\"\n",
    "\n",
    "# Automated configuration of CWL script location, process name and inputs\n",
    "if process_to_be_run == \"convert-url\":\n",
    "    process_name = \"convert-url\"\n",
    "    cwl_location = \"https://raw.githubusercontent.com/EO-DataHub/eodhp-ades-demonstration/refs/heads/main/convert-url-app.cwl\"\n",
    "    inputs_dict = {\"inputs\": {\n",
    "                    \"fn\": \"resize\",\n",
    "                    \"url\":  \"https://eoepca.org/media_portal/images/logo6_med.original.png\",\n",
    "                    \"size\": \"50%\"\n",
    "                    }\n",
    "                  }\n",
    "elif process_to_be_run == \"convert-stac\":\n",
    "    process_name = \"convert-stac\"\n",
    "    cwl_location = \"https://raw.githubusercontent.com/EO-DataHub/eodhp-ades-demonstration/refs/heads/main/convert-stac-app.cwl\"\n",
    "    inputs_dict = {\"inputs\": {\n",
    "                    \"fn\": \"resize\",\n",
    "                    \"stac\":  \"https://raw.githubusercontent.com/EOEPCA/convert/main/stac/eoepca-logo.json\",\n",
    "                    \"size\": \"50%\"\n",
    "                    }\n",
    "                  }\n",
    "\n",
    "elif process_to_be_run == \"water-bodies\":\n",
    "    process_name = \"water-bodies\"\n",
    "    cwl_location = \"https://raw.githubusercontent.com/EO-DataHub/eodhp-ades-demonstration/refs/heads/main/water-bodies-app.cwl\"\n",
    "    inputs_dict = {\"inputs\": {\n",
    "                    \"stac_items\": [\n",
    "                        \"https://prod.eodatahub.org.uk/catalogue-data/element84-data/collections/sentinel-2-c1-l2a/items/S2B_T42MVU_20240319T054135_L2A.json\"\n",
    "                    ],\n",
    "                    \"aoi\": \"68.09, -6.42, 69.09, -5.43\",\n",
    "                    \"epsg\": \"EPSG:4326\",\n",
    "                    \"bands\": [\n",
    "                        \"green\",\n",
    "                        \"nir\"\n",
    "                    ]\n",
    "                    }\n",
    "                  }"
   ]
  },
  {
   "cell_type": "markdown",
   "id": "43de5b91-ae3d-41ed-a7fc-ab396b372faf",
   "metadata": {},
   "source": [
    "### List processes"
   ]
  },
  {
   "cell_type": "code",
   "execution_count": null,
   "id": "a43afaf3-3cb0-4778-a03c-be4981919476",
   "metadata": {},
   "outputs": [
    {
     "data": {
      "text/plain": [
       "{'processes': [{'id': 'display',\n",
       "   'title': 'Print Cheetah templates as HTML',\n",
       "   'description': 'Print Cheetah templates as HTML.',\n",
       "   'mutable': False,\n",
       "   'version': '2.0.0',\n",
       "   'jobControlOptions': ['sync-execute', 'async-execute', 'dismiss'],\n",
       "   'outputTransmission': ['value', 'reference'],\n",
       "   'links': [{'rel': 'self',\n",
       "     'type': 'application/json',\n",
       "     'title': 'Process Description',\n",
       "     'href': 'https://dev.eodatahub.org.uk/ades/test_cluster_3/ogc-api/processes/display'}]},\n",
       "  {'id': 'echo',\n",
       "   'title': 'Echo input',\n",
       "   'description': 'Simply echo the value provided as input',\n",
       "   'mutable': False,\n",
       "   'version': '2.0.0',\n",
       "   'metadata': [{'title': 'Demo'}],\n",
       "   'jobControlOptions': ['sync-execute', 'async-execute', 'dismiss'],\n",
       "   'outputTransmission': ['value', 'reference'],\n",
       "   'links': [{'rel': 'self',\n",
       "     'type': 'application/json',\n",
       "     'title': 'Process Description',\n",
       "     'href': 'https://dev.eodatahub.org.uk/ades/test_cluster_3/ogc-api/processes/echo'}]}],\n",
       " 'links': [{'rel': 'self',\n",
       "   'type': 'application/json',\n",
       "   'href': 'https://dev.eodatahub.org.uk/ades/test_cluster_3/ogc-api/processes'}],\n",
       " 'numberTotal': 2}"
      ]
     },
     "execution_count": 7,
     "metadata": {},
     "output_type": "execute_result"
    }
   ],
   "source": [
    "url = f\"https://{wr_endpoint}/{workspace}/processes\"\n",
    "headers = {\"Accept\": \"application/json\"}\n",
    "headers.update(auth_dict)\n",
    "response = http.request('GET', url, headers=headers)\n",
    "json.loads(response.data)"
   ]
  },
  {
   "cell_type": "markdown",
   "id": "e73808f9-5008-48cb-b654-0d693740cafb",
   "metadata": {},
   "source": [
    "### Undeploy/Delete process"
   ]
  },
  {
   "cell_type": "code",
   "execution_count": null,
   "id": "7764a414-ef11-4bde-a079-dcbb97ff746a",
   "metadata": {},
   "outputs": [
    {
     "data": {
      "text/plain": [
       "403"
      ]
     },
     "execution_count": 8,
     "metadata": {},
     "output_type": "execute_result"
    }
   ],
   "source": [
    "## Here a 204 response means the process was remove successfully, no other content is returned\n",
    "url = f\"https://{wr_endpoint}/{workspace}/processes/{process_name}\"\n",
    "headers = {\"Accept\": \"application/json\"}\n",
    "headers.update(auth_dict)\n",
    "params = {}\n",
    "response = http.request('DELETE', url, headers=headers)\n",
    "response.status"
   ]
  },
  {
   "cell_type": "markdown",
   "id": "f1bfbbc7-5bdc-4e7d-be54-1031ccddf1ba",
   "metadata": {},
   "source": [
    "### Deploy processes"
   ]
  },
  {
   "cell_type": "code",
   "execution_count": null,
   "id": "4c3f7811-e73f-4ca1-9ef4-78962f9f916a",
   "metadata": {},
   "outputs": [
    {
     "data": {
      "text/plain": [
       "{'id': 'convert-url',\n",
       " 'title': 'convert url app',\n",
       " 'description': 'Convert URL',\n",
       " 'mutable': True,\n",
       " 'version': '0.1.2',\n",
       " 'outputTransmission': ['value', 'reference'],\n",
       " 'jobControlOptions': ['async-execute', 'dismiss'],\n",
       " 'links': [{'rel': 'http://www.opengis.net/def/rel/ogc/1.0/execute',\n",
       "   'type': 'application/json',\n",
       "   'title': 'Execute End Point',\n",
       "   'href': 'https://dev.eodatahub.org.uk/ades/test_cluster_3/ogc-api/processes/convert-url/execution'}]}"
      ]
     },
     "execution_count": 9,
     "metadata": {},
     "output_type": "execute_result"
    }
   ],
   "source": [
    "url = f\"https://{wr_endpoint}/{workspace}/processes\"\n",
    "headers = {\"Accept\": \"application/json\", \"Content-Type\": \"application/json\"}\n",
    "headers.update(auth_dict)\n",
    "params = {\"executionUnit\": {\n",
    "            \"href\": f\"{cwl_location}\",\n",
    "            \"type\": \"application/cwl\"\n",
    "            }\n",
    "         }\n",
    "response = http.request('POST', url, headers=headers, body=json.dumps(params))\n",
    "deployStatus = response.headers['Location']\n",
    "json.loads(response.data)"
   ]
  },
  {
   "cell_type": "markdown",
   "id": "67fe3983-a769-473d-b94a-e63830759d4c",
   "metadata": {},
   "source": [
    "### Get deploy status"
   ]
  },
  {
   "cell_type": "code",
   "execution_count": 10,
   "id": "c2582e0a-b05f-4e0a-a1e4-43e385421c9e",
   "metadata": {},
   "outputs": [
    {
     "data": {
      "text/plain": [
       "{'id': 'convert-url',\n",
       " 'title': 'convert url app',\n",
       " 'description': 'Convert URL',\n",
       " 'mutable': True,\n",
       " 'version': '0.1.2',\n",
       " 'outputTransmission': ['value', 'reference'],\n",
       " 'jobControlOptions': ['async-execute', 'dismiss'],\n",
       " 'links': [{'rel': 'http://www.opengis.net/def/rel/ogc/1.0/execute',\n",
       "   'type': 'application/json',\n",
       "   'title': 'Execute End Point',\n",
       "   'href': 'https://dev.eodatahub.org.uk/ades/test_cluster_3/ogc-api/processes/convert-url/execution'}],\n",
       " 'inputs': {'fn': {'title': 'the operation to perform',\n",
       "   'description': 'the operation to perform',\n",
       "   'schema': {'type': 'string'}},\n",
       "  'size': {'title': 'the percentage for a resize operation',\n",
       "   'description': 'the percentage for a resize operation',\n",
       "   'schema': {'type': 'string'}},\n",
       "  'url': {'title': 'the image to convert',\n",
       "   'description': 'the image to convert',\n",
       "   'schema': {'type': 'string'}}},\n",
       " 'outputs': {'converted_image': {'title': 'converted_image',\n",
       "   'description': 'None',\n",
       "   'extended-schema': {'oneOf': [{'allOf': [{'$ref': 'http://zoo-project.org/dl/link.json'},\n",
       "       {'type': 'object',\n",
       "        'properties': {'type': {'enum': ['application/json']}}}]},\n",
       "     {'type': 'object',\n",
       "      'required': ['value'],\n",
       "      'properties': {'value': {'oneOf': [{'type': 'object'}]}}}]},\n",
       "   'schema': {'oneOf': [{'type': 'object'}]}}}}"
      ]
     },
     "execution_count": 10,
     "metadata": {},
     "output_type": "execute_result"
    }
   ],
   "source": [
    "url = f\"{deployStatus}\"\n",
    "headers = {\"Accept\": \"application/json\"}\n",
    "headers.update(auth_dict)\n",
    "params = {}\n",
    "response = http.request('GET', url, headers=headers)\n",
    "json.loads(response.data)"
   ]
  },
  {
   "cell_type": "markdown",
   "id": "797096d6-fa56-4457-a00c-41782e71b86b",
   "metadata": {},
   "source": [
    "### Get process details"
   ]
  },
  {
   "cell_type": "code",
   "execution_count": null,
   "id": "6bdfe9e5-cce4-459c-bd8b-8ea9b346c5c0",
   "metadata": {},
   "outputs": [
    {
     "data": {
      "text/plain": [
       "{'id': 'convert-url',\n",
       " 'title': 'convert url app',\n",
       " 'description': 'Convert URL',\n",
       " 'mutable': True,\n",
       " 'version': '0.1.2',\n",
       " 'outputTransmission': ['value', 'reference'],\n",
       " 'jobControlOptions': ['async-execute', 'dismiss'],\n",
       " 'links': [{'rel': 'http://www.opengis.net/def/rel/ogc/1.0/execute',\n",
       "   'type': 'application/json',\n",
       "   'title': 'Execute End Point',\n",
       "   'href': 'https://dev.eodatahub.org.uk/ades/test_cluster_3/ogc-api/processes/convert-url/execution'}],\n",
       " 'inputs': {'fn': {'title': 'the operation to perform',\n",
       "   'description': 'the operation to perform',\n",
       "   'schema': {'type': 'string'}},\n",
       "  'size': {'title': 'the percentage for a resize operation',\n",
       "   'description': 'the percentage for a resize operation',\n",
       "   'schema': {'type': 'string'}},\n",
       "  'url': {'title': 'the image to convert',\n",
       "   'description': 'the image to convert',\n",
       "   'schema': {'type': 'string'}}},\n",
       " 'outputs': {'converted_image': {'title': 'converted_image',\n",
       "   'description': 'None',\n",
       "   'extended-schema': {'oneOf': [{'allOf': [{'$ref': 'http://zoo-project.org/dl/link.json'},\n",
       "       {'type': 'object',\n",
       "        'properties': {'type': {'enum': ['application/json']}}}]},\n",
       "     {'type': 'object',\n",
       "      'required': ['value'],\n",
       "      'properties': {'value': {'oneOf': [{'type': 'object'}]}}}]},\n",
       "   'schema': {'oneOf': [{'type': 'object'}]}}}}"
      ]
     },
     "execution_count": 11,
     "metadata": {},
     "output_type": "execute_result"
    }
   ],
   "source": [
    "url = f\"https://{wr_endpoint}/{workspace}/processes/{process_name}\"\n",
    "headers = {\"Accept\": \"application/json\"}\n",
    "headers.update(auth_dict)\n",
    "params = {}\n",
    "response = http.request('GET', url, headers=headers)\n",
    "json.loads(response.data)"
   ]
  },
  {
   "cell_type": "markdown",
   "id": "68d5af43-8025-4b63-b576-c7b2dfb6f4cb",
   "metadata": {},
   "source": [
    "### Execute process"
   ]
  },
  {
   "cell_type": "code",
   "execution_count": null,
   "id": "67bae0a8-3adb-4d70-8911-cdc65c10cfc5",
   "metadata": {},
   "outputs": [
    {
     "name": "stdout",
     "output_type": "stream",
     "text": [
      "{\"inputs\": {\"fn\": \"resize\", \"url\": \"https://eoepca.org/media_portal/images/logo6_med.original.png\", \"size\": \"50%\"}}\n"
     ]
    },
    {
     "data": {
      "text/plain": [
       "{'jobID': 'e555a7a8-e6d4-11ee-a53b-229b4c2f5d9c',\n",
       " 'type': 'process',\n",
       " 'processID': 'convert-url',\n",
       " 'created': '2024-03-20T16:14:15.347Z',\n",
       " 'started': '2024-03-20T16:14:15.347Z',\n",
       " 'updated': '2024-03-20T16:14:15.347Z',\n",
       " 'status': 'running',\n",
       " 'message': 'ZOO-Kernel accepted to run your service!',\n",
       " 'links': [{'title': 'Status location',\n",
       "   'rel': 'status',\n",
       "   'type': 'application/json',\n",
       "   'href': 'https://dev.eodatahub.org.uk/ades/test_cluster_3/ogc-api/jobs/e555a7a8-e6d4-11ee-a53b-229b4c2f5d9c'}]}"
      ]
     },
     "execution_count": 12,
     "metadata": {},
     "output_type": "execute_result"
    }
   ],
   "source": [
    "url = f\"https://{wr_endpoint}/{workspace}/processes/{process_name}/execution\"\n",
    "headers = {\"Accept\": \"application/json\", \"Content-Type\": \"application/json\", \"Prefer\": \"respond-async\"}\n",
    "headers.update(auth_dict)\n",
    "params = {**inputs_dict}\n",
    "print(json.dumps(params))\n",
    "time.sleep(5)\n",
    "response = http.request('POST', url, headers=headers, body=json.dumps(params))\n",
    "executeStatus = response.headers['Location']\n",
    "json.loads(response.data)"
   ]
  },
  {
   "cell_type": "markdown",
   "id": "7f5696ce-f6fe-4811-9762-da23cdb596bc",
   "metadata": {},
   "source": [
    "### Get execute status\n",
    "See the following section to continually poll this function instead to determine once complete"
   ]
  },
  {
   "cell_type": "code",
   "execution_count": 13,
   "id": "d15329a7-07a8-46e8-bbb3-a73f6d86b55c",
   "metadata": {},
   "outputs": [
    {
     "data": {
      "text/plain": [
       "{'progress': 10,\n",
       " 'jobID': 'e555a7a8-e6d4-11ee-a53b-229b4c2f5d9c',\n",
       " 'type': 'process',\n",
       " 'processID': 'convert-url',\n",
       " 'created': '2024-03-20T16:14:15.347Z',\n",
       " 'started': '2024-03-20T16:14:15.347Z',\n",
       " 'updated': '2024-03-20T16:14:17.045Z',\n",
       " 'status': 'running',\n",
       " 'message': 'workflow wrapped, creating processing environment',\n",
       " 'links': [{'title': 'Status location',\n",
       "   'rel': 'status',\n",
       "   'type': 'application/json',\n",
       "   'href': 'https://dev.eodatahub.org.uk/ades/test_cluster_3/ogc-api/jobs/e555a7a8-e6d4-11ee-a53b-229b4c2f5d9c'}]}"
      ]
     },
     "execution_count": 13,
     "metadata": {},
     "output_type": "execute_result"
    }
   ],
   "source": [
    "url = f\"{executeStatus}\"\n",
    "headers = {\"Accept\": \"application/json\"}\n",
    "headers.update(auth_dict)\n",
    "params = {}\n",
    "time.sleep(5)\n",
    "response = http.request('GET', url, headers=headers)\n",
    "json.loads(response.data)"
   ]
  },
  {
   "cell_type": "markdown",
   "id": "381b12ba-a9bc-443f-b8d8-cf8f05d55563",
   "metadata": {},
   "source": [
    "### Get execute status (continuous polling)\n",
    "Run this cell to keep polling the ExecuteStatus endpoint to determine when the process has finished running and also see it's final status: *SUCCESS* or *FAILED*"
   ]
  },
  {
   "cell_type": "code",
   "execution_count": 14,
   "id": "7917701a-9a07-44ee-946f-571258a0828c",
   "metadata": {},
   "outputs": [
    {
     "name": "stdout",
     "output_type": "stream",
     "text": [
      "Status is \u001b[94mRUNNING\u001b[0m\n",
      "Message is \u001b[1mworkflow wrapped, creating processing environment\u001b[0m..........\n",
      "Message is \u001b[1mprocessing environment created, preparing execution\u001b[0m......\n",
      "Message is \u001b[1mexecution submitted\u001b[0m............\n",
      "Message is \u001b[1mdelivering outputs, logs and usage report\u001b[0m.....\n",
      "Message is \u001b[1mexecution successful\u001b[0m\n",
      "\n",
      "Status is \u001b[94mSUCCESSFUL\u001b[0m\n",
      "Message is \u001b[1mZOO-Kernel successfully run your service!\u001b[0m\n",
      "\n",
      "\u001b[92mSUCCESS\u001b[0m\n"
     ]
    }
   ],
   "source": [
    "url = f\"{executeStatus}\"\n",
    "headers = {\"Accept\": \"application/json\"}\n",
    "headers.update(auth_dict)\n",
    "params = {}\n",
    "response = http.request('GET', url, headers=headers)\n",
    "data = json.loads(response.data)\n",
    "status = data['status']\n",
    "message = data['message']\n",
    "print(\"Status is \" + bcolors.OKBLUE + status.upper() + bcolors.ENDC)\n",
    "print(\"Message is \" + \"\\033[1m\" + message + \"\\033[0m\", end=\"\")\n",
    "old_message = message\n",
    "old_status = status\n",
    "while status == \"running\":\n",
    "    time.sleep(2)\n",
    "    response = http.request('GET', url, headers=headers)\n",
    "    data = json.loads(response.data)\n",
    "    status = data['status']\n",
    "    message = data['message']\n",
    "    if status != old_status:\n",
    "        print(\"\\n\")\n",
    "        print(\"Status is \" + bcolors.OKBLUE + status.upper() + bcolors.ENDC)\n",
    "        print(\"Message is \" + \"\\033[1m\" + message + \"\\033[0m\", end=\"\")\n",
    "    elif message != old_message:\n",
    "        print(\".\")\n",
    "        print(\"Message is \" + \"\\033[1m\" + message + \"\\033[0m\", end=\"\")\n",
    "    else:\n",
    "        print(\".\", end=\"\")\n",
    "    old_message = message\n",
    "    old_status = status\n",
    "\n",
    "if status == \"successful\":\n",
    "    print(\"\\n\")\n",
    "    print(bcolors.OKGREEN + \"SUCCESS\" + bcolors.ENDC)\n",
    "\n",
    "if status == \"failed\":\n",
    "    print(bcolors.WARNING + \"FAILED\" + bcolors.ENDC)"
   ]
  },
  {
   "cell_type": "markdown",
   "id": "e8927829-7ecc-448e-b65e-01a6855a7cb2",
   "metadata": {},
   "source": [
    "### Get processing results"
   ]
  },
  {
   "cell_type": "code",
   "execution_count": 18,
   "id": "c7a11be6-bf48-4229-9cb8-416b5fcafed5",
   "metadata": {},
   "outputs": [
    {
     "data": {
      "text/plain": [
       "{}"
      ]
     },
     "execution_count": 18,
     "metadata": {},
     "output_type": "execute_result"
    }
   ],
   "source": [
    "## Note, this will return a 500 response when no output is produced\n",
    "url = f\"{executeStatus}/results\"\n",
    "headers = {\"Accept\": \"application/json\"}\n",
    "headers.update(auth_dict)\n",
    "params = {}\n",
    "response = http.request('GET', url, headers=headers)\n",
    "json.loads(response.data)"
   ]
  },
  {
   "cell_type": "markdown",
   "id": "4680016d-6f5b-47a1-878c-657100e43b16",
   "metadata": {},
   "source": [
    "### List jobs"
   ]
  },
  {
   "cell_type": "code",
   "execution_count": null,
   "id": "2ff9c681-fcb4-47ae-b387-33868313fc66",
   "metadata": {},
   "outputs": [
    {
     "data": {
      "text/plain": [
       "{'jobs': [{'jobID': 'e555a7a8-e6d4-11ee-a53b-229b4c2f5d9c',\n",
       "   'type': 'process',\n",
       "   'processID': 'convert-url',\n",
       "   'created': '2024-03-20T16:14:15.347Z',\n",
       "   'started': '2024-03-20T16:14:15.347Z',\n",
       "   'finished': '2024-03-20T16:15:48.826Z',\n",
       "   'updated': '2024-03-20T16:15:48.311Z',\n",
       "   'status': 'successful',\n",
       "   'message': 'ZOO-Kernel successfully run your service!',\n",
       "   'links': [{'title': 'Status location',\n",
       "     'rel': 'status',\n",
       "     'type': 'application/json',\n",
       "     'href': 'https://dev.eodatahub.org.uk/ades/test_cluster_3/ogc-api/jobs/e555a7a8-e6d4-11ee-a53b-229b4c2f5d9c'},\n",
       "    {'title': 'Result location',\n",
       "     'rel': 'http://www.opengis.net/def/rel/ogc/1.0/results',\n",
       "     'type': 'application/json',\n",
       "     'href': 'https://dev.eodatahub.org.uk/ades/test_cluster_3/ogc-api/jobs/e555a7a8-e6d4-11ee-a53b-229b4c2f5d9c/results'},\n",
       "    {'href': 'https://dev.eodatahub.org.uk/ades/temp/convert-url-e555a7a8-e6d4-11ee-a53b-229b4c2f5d9c/convert.log',\n",
       "     'title': 'Tool log convert.log',\n",
       "     'rel': 'related',\n",
       "     'type': 'text/plain'},\n",
       "    {'href': 'https://dev.eodatahub.org.uk/ades/temp/convert-url-e555a7a8-e6d4-11ee-a53b-229b4c2f5d9c/node_stage_out.log',\n",
       "     'title': 'Tool log node_stage_out.log',\n",
       "     'rel': 'related',\n",
       "     'type': 'text/plain'}]},\n",
       "  {'jobID': '1939deb0-e6d3-11ee-a8e0-229b4c2f5d9c',\n",
       "   'type': 'process',\n",
       "   'processID': 'convert-url',\n",
       "   'created': '2024-03-20T16:01:23.423Z',\n",
       "   'started': '2024-03-20T16:01:23.423Z',\n",
       "   'finished': '2024-03-20T16:05:03.455Z',\n",
       "   'updated': '2024-03-20T16:05:02.042Z',\n",
       "   'status': 'successful',\n",
       "   'message': 'ZOO-Kernel successfully run your service!',\n",
       "   'links': [{'title': 'Status location',\n",
       "     'rel': 'status',\n",
       "     'type': 'application/json',\n",
       "     'href': 'https://dev.eodatahub.org.uk/ades/test_cluster_3/ogc-api/jobs/1939deb0-e6d3-11ee-a8e0-229b4c2f5d9c'},\n",
       "    {'title': 'Result location',\n",
       "     'rel': 'http://www.opengis.net/def/rel/ogc/1.0/results',\n",
       "     'type': 'application/json',\n",
       "     'href': 'https://dev.eodatahub.org.uk/ades/test_cluster_3/ogc-api/jobs/1939deb0-e6d3-11ee-a8e0-229b4c2f5d9c/results'},\n",
       "    {'href': 'https://dev.eodatahub.org.uk/ades/temp/convert-url-1939deb0-e6d3-11ee-a8e0-229b4c2f5d9c/convert.log',\n",
       "     'title': 'Tool log convert.log',\n",
       "     'rel': 'related',\n",
       "     'type': 'text/plain'},\n",
       "    {'href': 'https://dev.eodatahub.org.uk/ades/temp/convert-url-1939deb0-e6d3-11ee-a8e0-229b4c2f5d9c/node_stage_out.log',\n",
       "     'title': 'Tool log node_stage_out.log',\n",
       "     'rel': 'related',\n",
       "     'type': 'text/plain'}]}],\n",
       " 'links': [{'rel': 'self',\n",
       "   'type': 'application/json',\n",
       "   'href': 'https://dev.eodatahub.org.uk/ades/test_cluster_3/ogc-api/jobs'}],\n",
       " 'numberTotal': 2}"
      ]
     },
     "execution_count": 16,
     "metadata": {},
     "output_type": "execute_result"
    }
   ],
   "source": [
    "url = f\"https://{wr_endpoint}/{workspace}/jobs\"\n",
    "headers = {\"Accept\": \"application/json\"}\n",
    "headers.update(auth_dict)\n",
    "params = {}\n",
    "response = http.request('GET', url, headers=headers)\n",
    "json.loads(response.data)"
   ]
  },
  {
   "cell_type": "markdown",
   "id": "af824d94-c823-486d-96b5-8d55424bbf84",
   "metadata": {},
   "source": [
    "### Delete a Running Job"
   ]
  },
  {
   "cell_type": "code",
   "execution_count": null,
   "id": "5ed446c6-2fbd-4187-a5cf-55187e0bd61f",
   "metadata": {},
   "outputs": [],
   "source": [
    "job_id = \"your-job-id\"\n",
    "url = f\"https://{wr_endpoint}/{workspace}/jobs/{job_id}\"\n",
    "headers = {\"Accept\": \"application/json\"}\n",
    "headers.update(auth_dict)\n",
    "## Uncomment the following lines if you wish to delete the running Job as specified in `job_id` above\n",
    "# response = http.request('DELETE', url, headers=headers)\n",
    "# response.status"
   ]
  },
  {
   "cell_type": "markdown",
   "id": "afdaf4c0-9f38-4a70-bedf-4d0f8f37af1c",
   "metadata": {},
   "source": [
    "### Undeploy/Delete process"
   ]
  },
  {
   "cell_type": "code",
   "execution_count": null,
   "id": "8f8537dd-d0f8-4916-aae7-6d46f1a48d2f",
   "metadata": {},
   "outputs": [
    {
     "data": {
      "text/plain": [
       "204"
      ]
     },
     "execution_count": 17,
     "metadata": {},
     "output_type": "execute_result"
    }
   ],
   "source": [
    "## Here a 204 response means the process was remove successfully, no other content is returned\n",
    "url = f\"https://{wr_endpoint}/{workspace}/processes/{process_name}\"\n",
    "headers = {\"Accept\": \"application/json\"}\n",
    "headers.update(auth_dict)\n",
    "params = {}\n",
    "response = http.request('DELETE', url, headers=headers)\n",
    "response.status\n"
   ]
  }
 ],
 "metadata": {
  "kernelspec": {
   "display_name": "Python 3 (ipykernel)",
   "language": "python",
   "name": "python3"
  },
  "language_info": {
   "codemirror_mode": {
    "name": "ipython",
    "version": 3
   },
   "file_extension": ".py",
   "mimetype": "text/x-python",
   "name": "python",
   "nbconvert_exporter": "python",
   "pygments_lexer": "ipython3",
   "version": "3.9.19"
  }
 },
 "nbformat": 4,
 "nbformat_minor": 5
}
