{
 "cells": [
  {
   "cell_type": "markdown",
   "id": "a94f2cc2-1bb2-4669-b1e9-1e930bd8d509",
   "metadata": {},
   "source": [
    "# Demonstrate ADES Execution for OGC Application Packages\n",
    "## This notebook runs through some example API calls to the ADES (Application, Deployment Execution Service) component of the EODH Platform"
   ]
  },
  {
   "cell_type": "code",
   "execution_count": 1,
   "id": "d22bbf8b-67e2-4116-9047-7ac822349983",
   "metadata": {},
   "outputs": [
    {
     "name": "stdout",
     "output_type": "stream",
     "text": [
      "Defaulting to user installation because normal site-packages is not writeable\n",
      "Requirement already satisfied: urllib3 in /home/tjellicoe/.local/lib/python3.9/site-packages (2.0.7)\n"
     ]
    }
   ],
   "source": [
    "!pip install urllib3"
   ]
  },
  {
   "cell_type": "code",
   "execution_count": 2,
   "id": "43579c18-97f5-4c72-83b2-08093a5354d5",
   "metadata": {},
   "outputs": [],
   "source": [
    "import json\n",
    "import time\n",
    "import urllib3\n",
    "http = urllib3.PoolManager(cert_reqs='CERT_NONE')\n",
    "urllib3.disable_warnings() ## temporary fix only!"
   ]
  },
  {
   "cell_type": "code",
   "execution_count": 3,
   "id": "8ae51cdd-0237-4326-a4d0-4e07247a42a0",
   "metadata": {},
   "outputs": [],
   "source": [
    "## Define text colour for later output\n",
    "class bcolors:\n",
    "    OKBLUE = '\\033[94m'\n",
    "    OKGREEN = '\\033[92m'\n",
    "    WARNING = '\\033[93m'\n",
    "    ENDC = '\\033[0m'"
   ]
  },
  {
   "cell_type": "markdown",
   "id": "a140c98a-cfd9-447a-8726-2f3ea6ef39b2",
   "metadata": {},
   "source": [
    "## Below are some example API requests you can make to the ADES component\n",
    "Feel free to run these examples and change the inputs by specifying the application packages, process name and process inputs.\n",
    "All outputs can be found in the S3 bucket [eodhp-ades](https://s3.console.aws.amazon.com/s3/buckets/eodhp-ades?region=eu-west-2&bucketType=general&tab=objects).\n",
    "\n",
    "As an example we provide an EOEPCA-developed OGC Application Package to demonstrate the successful execution using the ADES deployment:\n",
    "- [convert-url](https://github.com/EOEPCA/convert/blob/main/convert-url-app.cwl) - take an image specified by a URL and resize it by a given scale percentage\n",
    "\n",
    "This application is specified by configuring the below variable"
   ]
  },
  {
   "cell_type": "code",
   "execution_count": 4,
   "id": "032d4055-0724-4fd5-aac9-a1a96ed9de94",
   "metadata": {},
   "outputs": [],
   "source": [
    "process_to_be_run = \"convert_url\""
   ]
  },
  {
   "cell_type": "code",
   "execution_count": 5,
   "id": "881bbcf8-8a74-4616-b5f0-2671133cc009",
   "metadata": {},
   "outputs": [],
   "source": [
    "# Update these variables as required to identify the running ades instance and specify workspace name\n",
    "# If the workspace does not yet exect, it will be created by the ades automatically\n",
    "ades_endpoint = \"ades.dev.eodhp.eco-ke-staging.com\"\n",
    "user = \"tom\"\n",
    "\n",
    "# Automated configuration of CWL script location, process name and inputs\n",
    "if process_to_be_run == \"convert_url\":\n",
    "    process_name = \"convert-url\"\n",
    "    cwl_location = \"https://raw.githubusercontent.com/EOEPCA/deployment-guide/main/deploy/samples/requests/processing/convert-url-app.cwl\"\n",
    "    inputs_dict = {\"inputs\": {\n",
    "                    \"fn\": \"resize\",\n",
    "                    \"stac\":  \"https://raw.githubusercontent.com/EOEPCA/convert/main/stac/eoepca-logo.json\",\n",
    "                    \"size\": \"50%\"\n",
    "                    }\n",
    "                  }"
   ]
  },
  {
   "cell_type": "markdown",
   "id": "43de5b91-ae3d-41ed-a7fc-ab396b372faf",
   "metadata": {},
   "source": [
    "### List processes"
   ]
  },
  {
   "cell_type": "code",
   "execution_count": 7,
   "id": "a43afaf3-3cb0-4778-a03c-be4981919476",
   "metadata": {},
   "outputs": [
    {
     "ename": "JSONDecodeError",
     "evalue": "Expecting value: line 1 column 1 (char 0)",
     "output_type": "error",
     "traceback": [
      "\u001b[0;31m---------------------------------------------------------------------------\u001b[0m",
      "\u001b[0;31mJSONDecodeError\u001b[0m                           Traceback (most recent call last)",
      "Cell \u001b[0;32mIn[7], line 5\u001b[0m\n\u001b[1;32m      2\u001b[0m headers \u001b[38;5;241m=\u001b[39m {\u001b[38;5;124m\"\u001b[39m\u001b[38;5;124mAccept\u001b[39m\u001b[38;5;124m\"\u001b[39m: \u001b[38;5;124m\"\u001b[39m\u001b[38;5;124mapplication/json\u001b[39m\u001b[38;5;124m\"\u001b[39m}\n\u001b[1;32m      4\u001b[0m response \u001b[38;5;241m=\u001b[39m http\u001b[38;5;241m.\u001b[39mrequest(\u001b[38;5;124m'\u001b[39m\u001b[38;5;124mGET\u001b[39m\u001b[38;5;124m'\u001b[39m, url, headers\u001b[38;5;241m=\u001b[39mheaders)\n\u001b[0;32m----> 5\u001b[0m \u001b[43mjson\u001b[49m\u001b[38;5;241;43m.\u001b[39;49m\u001b[43mloads\u001b[49m\u001b[43m(\u001b[49m\u001b[43mresponse\u001b[49m\u001b[38;5;241;43m.\u001b[39;49m\u001b[43mdata\u001b[49m\u001b[43m)\u001b[49m\n",
      "File \u001b[0;32m/usr/lib/python3.9/json/__init__.py:346\u001b[0m, in \u001b[0;36mloads\u001b[0;34m(s, cls, object_hook, parse_float, parse_int, parse_constant, object_pairs_hook, **kw)\u001b[0m\n\u001b[1;32m    341\u001b[0m     s \u001b[38;5;241m=\u001b[39m s\u001b[38;5;241m.\u001b[39mdecode(detect_encoding(s), \u001b[38;5;124m'\u001b[39m\u001b[38;5;124msurrogatepass\u001b[39m\u001b[38;5;124m'\u001b[39m)\n\u001b[1;32m    343\u001b[0m \u001b[38;5;28;01mif\u001b[39;00m (\u001b[38;5;28mcls\u001b[39m \u001b[38;5;129;01mis\u001b[39;00m \u001b[38;5;28;01mNone\u001b[39;00m \u001b[38;5;129;01mand\u001b[39;00m object_hook \u001b[38;5;129;01mis\u001b[39;00m \u001b[38;5;28;01mNone\u001b[39;00m \u001b[38;5;129;01mand\u001b[39;00m\n\u001b[1;32m    344\u001b[0m         parse_int \u001b[38;5;129;01mis\u001b[39;00m \u001b[38;5;28;01mNone\u001b[39;00m \u001b[38;5;129;01mand\u001b[39;00m parse_float \u001b[38;5;129;01mis\u001b[39;00m \u001b[38;5;28;01mNone\u001b[39;00m \u001b[38;5;129;01mand\u001b[39;00m\n\u001b[1;32m    345\u001b[0m         parse_constant \u001b[38;5;129;01mis\u001b[39;00m \u001b[38;5;28;01mNone\u001b[39;00m \u001b[38;5;129;01mand\u001b[39;00m object_pairs_hook \u001b[38;5;129;01mis\u001b[39;00m \u001b[38;5;28;01mNone\u001b[39;00m \u001b[38;5;129;01mand\u001b[39;00m \u001b[38;5;129;01mnot\u001b[39;00m kw):\n\u001b[0;32m--> 346\u001b[0m     \u001b[38;5;28;01mreturn\u001b[39;00m \u001b[43m_default_decoder\u001b[49m\u001b[38;5;241;43m.\u001b[39;49m\u001b[43mdecode\u001b[49m\u001b[43m(\u001b[49m\u001b[43ms\u001b[49m\u001b[43m)\u001b[49m\n\u001b[1;32m    347\u001b[0m \u001b[38;5;28;01mif\u001b[39;00m \u001b[38;5;28mcls\u001b[39m \u001b[38;5;129;01mis\u001b[39;00m \u001b[38;5;28;01mNone\u001b[39;00m:\n\u001b[1;32m    348\u001b[0m     \u001b[38;5;28mcls\u001b[39m \u001b[38;5;241m=\u001b[39m JSONDecoder\n",
      "File \u001b[0;32m/usr/lib/python3.9/json/decoder.py:337\u001b[0m, in \u001b[0;36mJSONDecoder.decode\u001b[0;34m(self, s, _w)\u001b[0m\n\u001b[1;32m    332\u001b[0m \u001b[38;5;28;01mdef\u001b[39;00m \u001b[38;5;21mdecode\u001b[39m(\u001b[38;5;28mself\u001b[39m, s, _w\u001b[38;5;241m=\u001b[39mWHITESPACE\u001b[38;5;241m.\u001b[39mmatch):\n\u001b[1;32m    333\u001b[0m \u001b[38;5;250m    \u001b[39m\u001b[38;5;124;03m\"\"\"Return the Python representation of ``s`` (a ``str`` instance\u001b[39;00m\n\u001b[1;32m    334\u001b[0m \u001b[38;5;124;03m    containing a JSON document).\u001b[39;00m\n\u001b[1;32m    335\u001b[0m \n\u001b[1;32m    336\u001b[0m \u001b[38;5;124;03m    \"\"\"\u001b[39;00m\n\u001b[0;32m--> 337\u001b[0m     obj, end \u001b[38;5;241m=\u001b[39m \u001b[38;5;28;43mself\u001b[39;49m\u001b[38;5;241;43m.\u001b[39;49m\u001b[43mraw_decode\u001b[49m\u001b[43m(\u001b[49m\u001b[43ms\u001b[49m\u001b[43m,\u001b[49m\u001b[43m \u001b[49m\u001b[43midx\u001b[49m\u001b[38;5;241;43m=\u001b[39;49m\u001b[43m_w\u001b[49m\u001b[43m(\u001b[49m\u001b[43ms\u001b[49m\u001b[43m,\u001b[49m\u001b[43m \u001b[49m\u001b[38;5;241;43m0\u001b[39;49m\u001b[43m)\u001b[49m\u001b[38;5;241;43m.\u001b[39;49m\u001b[43mend\u001b[49m\u001b[43m(\u001b[49m\u001b[43m)\u001b[49m\u001b[43m)\u001b[49m\n\u001b[1;32m    338\u001b[0m     end \u001b[38;5;241m=\u001b[39m _w(s, end)\u001b[38;5;241m.\u001b[39mend()\n\u001b[1;32m    339\u001b[0m     \u001b[38;5;28;01mif\u001b[39;00m end \u001b[38;5;241m!=\u001b[39m \u001b[38;5;28mlen\u001b[39m(s):\n",
      "File \u001b[0;32m/usr/lib/python3.9/json/decoder.py:355\u001b[0m, in \u001b[0;36mJSONDecoder.raw_decode\u001b[0;34m(self, s, idx)\u001b[0m\n\u001b[1;32m    353\u001b[0m     obj, end \u001b[38;5;241m=\u001b[39m \u001b[38;5;28mself\u001b[39m\u001b[38;5;241m.\u001b[39mscan_once(s, idx)\n\u001b[1;32m    354\u001b[0m \u001b[38;5;28;01mexcept\u001b[39;00m \u001b[38;5;167;01mStopIteration\u001b[39;00m \u001b[38;5;28;01mas\u001b[39;00m err:\n\u001b[0;32m--> 355\u001b[0m     \u001b[38;5;28;01mraise\u001b[39;00m JSONDecodeError(\u001b[38;5;124m\"\u001b[39m\u001b[38;5;124mExpecting value\u001b[39m\u001b[38;5;124m\"\u001b[39m, s, err\u001b[38;5;241m.\u001b[39mvalue) \u001b[38;5;28;01mfrom\u001b[39;00m \u001b[38;5;28;01mNone\u001b[39;00m\n\u001b[1;32m    356\u001b[0m \u001b[38;5;28;01mreturn\u001b[39;00m obj, end\n",
      "\u001b[0;31mJSONDecodeError\u001b[0m: Expecting value: line 1 column 1 (char 0)"
     ]
    }
   ],
   "source": [
    "url = f\"http://{ades_endpoint}/{user}/ogc-api/processes\"\n",
    "headers = {\"Accept\": \"application/json\"}\n",
    "\n",
    "response = http.request('GET', url, headers=headers)\n",
    "json.loads(response.data)"
   ]
  },
  {
   "cell_type": "markdown",
   "id": "f1bfbbc7-5bdc-4e7d-be54-1031ccddf1ba",
   "metadata": {},
   "source": [
    "### Deploy processes"
   ]
  },
  {
   "cell_type": "code",
   "execution_count": null,
   "id": "4c3f7811-e73f-4ca1-9ef4-78962f9f916a",
   "metadata": {},
   "outputs": [],
   "source": [
    "url = f\"https://{ades_endpoint}/{user}/ogc-api/processes\"\n",
    "headers = {\"Accept\": \"application/json\", \"Content-Type\": \"application/json\"}\n",
    "params = {\"executionUnit\": {\n",
    "            \"href\": f\"{cwl_location}\",\n",
    "            \"type\": \"application/cwl\"\n",
    "            }\n",
    "         }\n",
    "response = http.request('POST', url, headers=headers, body=json.dumps(params))\n",
    "deployStatus = response.headers['Location']\n",
    "json.loads(response.data)"
   ]
  },
  {
   "cell_type": "markdown",
   "id": "67fe3983-a769-473d-b94a-e63830759d4c",
   "metadata": {},
   "source": [
    "### Get deploy status"
   ]
  },
  {
   "cell_type": "code",
   "execution_count": null,
   "id": "c2582e0a-b05f-4e0a-a1e4-43e385421c9e",
   "metadata": {},
   "outputs": [],
   "source": [
    "url = f\"{deployStatus}\"\n",
    "headers = {\"Accept\": \"application/json\"}\n",
    "params = {}\n",
    "response = http.request('GET', url, headers=headers)\n",
    "json.loads(response.data)"
   ]
  },
  {
   "cell_type": "markdown",
   "id": "797096d6-fa56-4457-a00c-41782e71b86b",
   "metadata": {},
   "source": [
    "### Get process details"
   ]
  },
  {
   "cell_type": "code",
   "execution_count": null,
   "id": "6bdfe9e5-cce4-459c-bd8b-8ea9b346c5c0",
   "metadata": {},
   "outputs": [],
   "source": [
    "url = f\"https://{ades_endpoint}/{user}/ogc-api/processes/{process_name}\"\n",
    "headers = {\"Accept\": \"application/json\"}\n",
    "params = {}\n",
    "response = http.request('GET', url, headers=headers)\n",
    "json.loads(response.data)"
   ]
  },
  {
   "cell_type": "markdown",
   "id": "68d5af43-8025-4b63-b576-c7b2dfb6f4cb",
   "metadata": {},
   "source": [
    "### Execute process"
   ]
  },
  {
   "cell_type": "code",
   "execution_count": null,
   "id": "67bae0a8-3adb-4d70-8911-cdc65c10cfc5",
   "metadata": {},
   "outputs": [],
   "source": [
    "url = f\"https://{ades_endpoint}/{user}/ogc-api/processes/{process_name}/execution\"\n",
    "headers = {\"Accept\": \"application/json\", \"Content-Type\": \"application/json\", \"Prefer\": \"respond-async\"}\n",
    "params = {**inputs_dict,\n",
    "          \"response\":\"raw\"\n",
    "          }\n",
    "response = http.request('POST', url, headers=headers, body=json.dumps(params))\n",
    "executeStatus = response.headers['Location']\n",
    "json.loads(response.data)"
   ]
  },
  {
   "cell_type": "markdown",
   "id": "7f5696ce-f6fe-4811-9762-da23cdb596bc",
   "metadata": {},
   "source": [
    "### Get execute status\n",
    "See the following section to continually poll this function instead to determine once complete"
   ]
  },
  {
   "cell_type": "code",
   "execution_count": null,
   "id": "d15329a7-07a8-46e8-bbb3-a73f6d86b55c",
   "metadata": {},
   "outputs": [],
   "source": [
    "url = f\"{executeStatus}\"\n",
    "headers = {\"Accept\": \"application/json\"}\n",
    "params = {}\n",
    "response = http.request('GET', url, headers=headers)\n",
    "json.loads(response.data)"
   ]
  },
  {
   "cell_type": "markdown",
   "id": "381b12ba-a9bc-443f-b8d8-cf8f05d55563",
   "metadata": {},
   "source": [
    "### Get execute status (continuous polling)\n",
    "Run this cell to keep polling the ExecuteStatus endpoint to determine when the process has finished running and also see it's final status: *SUCCESS* or *FAILED*"
   ]
  },
  {
   "cell_type": "code",
   "execution_count": null,
   "id": "7917701a-9a07-44ee-946f-571258a0828c",
   "metadata": {},
   "outputs": [],
   "source": [
    "url = f\"{executeStatus}\"\n",
    "headers = {\"Accept\": \"application/json\"}\n",
    "params = {}\n",
    "response = http.request('GET', url, headers=headers)\n",
    "data = json.loads(response.data)\n",
    "status = data['status']\n",
    "print(\"Status is \" + bcolors.OKGREEN + status.upper() + bcolors.ENDC)\n",
    "while status == \"running\":\n",
    "    time.sleep(5)\n",
    "    response = http.request('GET', url, headers=headers)\n",
    "    print(\"Status is \" + bcolors.OKGREEN + status.upper() + bcolors.ENDC)\n",
    "\n",
    "if status == \"successful\":\n",
    "    print(bcolors.OKGREEN + \"SUCCESS\" + bcolors.ENDC)\n",
    "\n",
    "if status == \"failed\":\n",
    "    print(bcolors.WARNING + \"FAILED\" + bcolors.ENDC)"
   ]
  },
  {
   "cell_type": "markdown",
   "id": "e8927829-7ecc-448e-b65e-01a6855a7cb2",
   "metadata": {},
   "source": [
    "### Get processing results"
   ]
  },
  {
   "cell_type": "code",
   "execution_count": null,
   "id": "c7a11be6-bf48-4229-9cb8-416b5fcafed5",
   "metadata": {},
   "outputs": [],
   "source": [
    "## Note, this will return a 500 response when no output is produced, e.g. when running do-nothing\n",
    "url = f\"{executeStatus}/results\"\n",
    "headers = {\"Accept\": \"application/json\"}\n",
    "params = {}\n",
    "response = http.request('GET', url, headers=headers)\n",
    "data = json.loads(response.data)\n",
    "data_location = data['StacCatalogUri'] if 'StacCatalogUri' in data else \"No location provided\"\n",
    "\n",
    "print(f\"Data location: {data_location}\")"
   ]
  },
  {
   "cell_type": "markdown",
   "id": "4680016d-6f5b-47a1-878c-657100e43b16",
   "metadata": {},
   "source": [
    "### List jobs"
   ]
  },
  {
   "cell_type": "code",
   "execution_count": null,
   "id": "2ff9c681-fcb4-47ae-b387-33868313fc66",
   "metadata": {},
   "outputs": [],
   "source": [
    "url = f\"https://{ades_endpoint}/{user}/ogc-api/jobs\"\n",
    "headers = {\"Accept\": \"application/json\"}\n",
    "params = {}\n",
    "response = http.request('GET', url, headers=headers)\n",
    "json.loads(response.data)"
   ]
  },
  {
   "cell_type": "markdown",
   "id": "afdaf4c0-9f38-4a70-bedf-4d0f8f37af1c",
   "metadata": {},
   "source": [
    "### Undeploy/Delete process"
   ]
  },
  {
   "cell_type": "code",
   "execution_count": null,
   "id": "8f8537dd-d0f8-4916-aae7-6d46f1a48d2f",
   "metadata": {},
   "outputs": [],
   "source": [
    "## Here a 204 response means the process was remove successfully, no other content is returned\n",
    "url = f\"https://{ades_endpoint}/{user}/ogc-api/processes/{process_name}\"\n",
    "headers = {\"Accept\": \"application/json\"}\n",
    "params = {}\n",
    "response = http.request('DELETE', url, headers=headers)\n",
    "response.status"
   ]
  }
 ],
 "metadata": {
  "kernelspec": {
   "display_name": "Python 3 (ipykernel)",
   "language": "python",
   "name": "python3"
  },
  "language_info": {
   "codemirror_mode": {
    "name": "ipython",
    "version": 3
   },
   "file_extension": ".py",
   "mimetype": "text/x-python",
   "name": "python",
   "nbconvert_exporter": "python",
   "pygments_lexer": "ipython3",
   "version": "3.9.18"
  }
 },
 "nbformat": 4,
 "nbformat_minor": 5
}
