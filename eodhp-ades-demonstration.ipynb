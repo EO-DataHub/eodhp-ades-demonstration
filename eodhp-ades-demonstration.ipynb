{
 "cells": [
  {
   "cell_type": "markdown",
   "id": "a94f2cc2-1bb2-4669-b1e9-1e930bd8d509",
   "metadata": {},
   "source": [
    "# Demonstrate ADES Execution for OGC Application Packages\n",
    "## This notebook runs through some example API calls to the ADES (Application, Deployment Execution Service) component of the EODH Platform"
   ]
  },
  {
   "cell_type": "code",
   "execution_count": 1,
   "id": "d22bbf8b-67e2-4116-9047-7ac822349983",
   "metadata": {},
   "outputs": [
    {
     "name": "stdout",
     "output_type": "stream",
     "text": [
      "Defaulting to user installation because normal site-packages is not writeable\n",
      "Requirement already satisfied: urllib3 in /home/tjellicoe/.local/lib/python3.9/site-packages (2.0.7)\n"
     ]
    }
   ],
   "source": [
    "!pip install urllib3"
   ]
  },
  {
   "cell_type": "code",
   "execution_count": 2,
   "id": "43579c18-97f5-4c72-83b2-08093a5354d5",
   "metadata": {},
   "outputs": [],
   "source": [
    "import json\n",
    "import time\n",
    "import urllib3\n",
    "http = urllib3.PoolManager(cert_reqs='CERT_NONE')\n",
    "urllib3.disable_warnings() ## to avoid SSL warnings"
   ]
  },
  {
   "cell_type": "code",
   "execution_count": 3,
   "id": "8ae51cdd-0237-4326-a4d0-4e07247a42a0",
   "metadata": {},
   "outputs": [],
   "source": [
    "## Define text colour for later output\n",
    "class bcolors:\n",
    "    OKBLUE = '\\033[94m'\n",
    "    OKGREEN = '\\033[92m'\n",
    "    WARNING = '\\033[93m'\n",
    "    ENDC = '\\033[0m'"
   ]
  },
  {
   "cell_type": "code",
   "execution_count": 27,
   "id": "1029d684-bd93-4da1-853b-4e15e17c2370",
   "metadata": {},
   "outputs": [],
   "source": [
    "## Place your username and password here\n",
    "username = \"username\"\n",
    "password = \"password\"\n",
    "auth_dict = urllib3.make_headers(basic_auth=f'{username}:{password}')"
   ]
  },
  {
   "cell_type": "markdown",
   "id": "a140c98a-cfd9-447a-8726-2f3ea6ef39b2",
   "metadata": {},
   "source": [
    "## Below are some example API requests you can make to the ADES component\n",
    "Feel free to run these examples and change the inputs by specifying the application packages, process name and process inputs.\n",
    "All outputs can be found in the S3 bucket [eodhp-ades](https://s3.console.aws.amazon.com/s3/buckets/eodhp-ades?region=eu-west-2&bucketType=general&tab=objects).\n",
    "\n",
    "As an example we provide three EOEPCA-developed OGC Application Package to demonstrate the successful execution using the ADES deployment:\n",
    "- [convert-url](https://github.com/EOEPCA/convert/blob/main/convert-url-app.cwl) - take an image specified by a URL and resize it by a given scale percentage\n",
    "- [convert-stac](https://github.com/EOEPCA/convert/blob/main/convert-stac-app.cwl) - take an image specified by a stac item and resize it by a given scale percentage\n",
    "- [water-bodies](https://github.com/EOEPCA/deployment-guide/blob/main/deploy/samples/requests/processing/water-bodies-app.cwl) - takes STAC items, area of interest, epsg definition and set of bands and identifies water bodies based on NDWI and Otsu threshold\n",
    "\n",
    "This application is specified by configuring the below variable"
   ]
  },
  {
   "cell_type": "code",
   "execution_count": 5,
   "id": "032d4055-0724-4fd5-aac9-a1a96ed9de94",
   "metadata": {},
   "outputs": [],
   "source": [
    "process_to_be_run = \"water-bodies\""
   ]
  },
  {
   "cell_type": "code",
   "execution_count": 6,
   "id": "881bbcf8-8a74-4616-b5f0-2671133cc009",
   "metadata": {},
   "outputs": [],
   "source": [
    "# Update these variables as required to identify the running ades instance and specify workspace name\n",
    "# If the workspace does not yet exect, it will be created by the ades automatically\n",
    "ades_endpoint = \"ades.test.eodhp.eco-ke-staging.com\"\n",
    "user = \"test_cluster\"\n",
    "\n",
    "# Automated configuration of CWL script location, process name and inputs\n",
    "if process_to_be_run == \"convert-url\":\n",
    "    process_name = \"convert-url\"\n",
    "    cwl_location = \"https://raw.githubusercontent.com/EOEPCA/deployment-guide/main/deploy/samples/requests/processing/convert-url-app.cwl\"\n",
    "    inputs_dict = {\"inputs\": {\n",
    "                    \"fn\": \"resize\",\n",
    "                    \"stac\":  \"https://eoepca.org/media_portal/images/logo6_med.original.png\",\n",
    "                    \"size\": \"50%\"\n",
    "                    }\n",
    "                  }\n",
    "elif process_to_be_run == \"convert-stac\":\n",
    "    process_name = \"convert-stac\"\n",
    "    cwl_location = \"https://raw.githubusercontent.com/EOEPCA/deployment-guide/main/deploy/samples/requests/processing/convert-stac-app.cwl\"\n",
    "    inputs_dict = {\"inputs\": {\n",
    "                    \"fn\": \"resize\",\n",
    "                    \"stac\":  \"https://raw.githubusercontent.com/EOEPCA/convert/main/stac/eoepca-logo.json\",\n",
    "                    \"size\": \"50%\"\n",
    "                    }\n",
    "                  }\n",
    "\n",
    "elif process_to_be_run == \"water-bodies\":\n",
    "    process_name = \"water-bodies\"\n",
    "    cwl_location = \"https://raw.githubusercontent.com/EOEPCA/deployment-guide/main/deploy/samples/requests/processing/water-bodies-app.cwl\"\n",
    "    inputs_dict = {\"inputs\": {\n",
    "                    \"stac_items\": [\n",
    "                        \"https://earth-search.aws.element84.com/v0/collections/sentinel-s2-l2a-cogs/items/S2B_10TFK_20210713_0_L2A\",\n",
    "                        \"https://earth-search.aws.element84.com/v0/collections/sentinel-s2-l2a-cogs/items/S2A_10TFK_20220524_0_L2A\"\n",
    "                    ],\n",
    "                    \"aoi\": \"-121.399,39.834,-120.74,40.472\",\n",
    "                    \"epsg\": \"EPSG:4326\",\n",
    "                    \"bands\": [\n",
    "                        \"green\",\n",
    "                        \"nir\"\n",
    "                    ]\n",
    "                    }\n",
    "                  }"
   ]
  },
  {
   "cell_type": "markdown",
   "id": "43de5b91-ae3d-41ed-a7fc-ab396b372faf",
   "metadata": {},
   "source": [
    "### List processes"
   ]
  },
  {
   "cell_type": "code",
   "execution_count": 7,
   "id": "a43afaf3-3cb0-4778-a03c-be4981919476",
   "metadata": {},
   "outputs": [
    {
     "data": {
      "text/plain": [
       "{'processes': [{'id': 'display',\n",
       "   'title': 'Print Cheetah templates as HTML',\n",
       "   'description': 'Print Cheetah templates as HTML.',\n",
       "   'mutable': False,\n",
       "   'version': '2.0.0',\n",
       "   'jobControlOptions': ['sync-execute', 'async-execute', 'dismiss'],\n",
       "   'outputTransmission': ['value', 'reference'],\n",
       "   'links': [{'rel': 'self',\n",
       "     'type': 'application/json',\n",
       "     'title': 'Process Description',\n",
       "     'href': 'https://ades.test.eodhp.eco-ke-staging.com/test_cluster/ogc-api/processes/display'}]},\n",
       "  {'id': 'echo',\n",
       "   'title': 'Echo input',\n",
       "   'description': 'Simply echo the value provided as input',\n",
       "   'mutable': False,\n",
       "   'version': '2.0.0',\n",
       "   'metadata': [{'title': 'Demo'}],\n",
       "   'jobControlOptions': ['sync-execute', 'async-execute', 'dismiss'],\n",
       "   'outputTransmission': ['value', 'reference'],\n",
       "   'links': [{'rel': 'self',\n",
       "     'type': 'application/json',\n",
       "     'title': 'Process Description',\n",
       "     'href': 'https://ades.test.eodhp.eco-ke-staging.com/test_cluster/ogc-api/processes/echo'}]}],\n",
       " 'links': [{'rel': 'self',\n",
       "   'type': 'application/json',\n",
       "   'href': 'https://ades.test.eodhp.eco-ke-staging.com/test_cluster/ogc-api/processes'}],\n",
       " 'numberTotal': 2}"
      ]
     },
     "execution_count": 7,
     "metadata": {},
     "output_type": "execute_result"
    }
   ],
   "source": [
    "url = f\"https://{ades_endpoint}/{user}/ogc-api/processes\"\n",
    "headers = {\"Accept\": \"application/json\"}\n",
    "headers.update(auth_dict)\n",
    "response = http.request('GET', url, headers=headers)\n",
    "json.loads(response.data)"
   ]
  },
  {
   "cell_type": "markdown",
   "id": "e73808f9-5008-48cb-b654-0d693740cafb",
   "metadata": {},
   "source": [
    "### Undeploy/Delete process"
   ]
  },
  {
   "cell_type": "code",
   "execution_count": 8,
   "id": "7764a414-ef11-4bde-a079-dcbb97ff746a",
   "metadata": {},
   "outputs": [
    {
     "data": {
      "text/plain": [
       "403"
      ]
     },
     "execution_count": 8,
     "metadata": {},
     "output_type": "execute_result"
    }
   ],
   "source": [
    "## Here a 204 response means the process was remove successfully, no other content is returned\n",
    "url = f\"https://{ades_endpoint}/{user}/ogc-api/processes/{process_name}\"\n",
    "headers = {\"Accept\": \"application/json\"}\n",
    "headers.update(auth_dict)\n",
    "params = {}\n",
    "response = http.request('DELETE', url, headers=headers)\n",
    "response.status"
   ]
  },
  {
   "cell_type": "markdown",
   "id": "f1bfbbc7-5bdc-4e7d-be54-1031ccddf1ba",
   "metadata": {},
   "source": [
    "### Deploy processes"
   ]
  },
  {
   "cell_type": "code",
   "execution_count": 9,
   "id": "4c3f7811-e73f-4ca1-9ef4-78962f9f916a",
   "metadata": {},
   "outputs": [
    {
     "data": {
      "text/plain": [
       "{'id': 'water-bodies',\n",
       " 'title': 'Water bodies detection based on NDWI and otsu threshold',\n",
       " 'description': 'Water bodies detection based on NDWI and otsu threshold',\n",
       " 'mutable': True,\n",
       " 'version': '1.4.1',\n",
       " 'outputTransmission': ['value', 'reference'],\n",
       " 'jobControlOptions': ['async-execute', 'dismiss'],\n",
       " 'links': [{'rel': 'http://www.opengis.net/def/rel/ogc/1.0/execute',\n",
       "   'type': 'application/json',\n",
       "   'title': 'Execute End Point',\n",
       "   'href': 'https://ades.test.eodhp.eco-ke-staging.com/test_cluster/ogc-api/processes/water-bodies/execution'}]}"
      ]
     },
     "execution_count": 9,
     "metadata": {},
     "output_type": "execute_result"
    }
   ],
   "source": [
    "url = f\"https://{ades_endpoint}/{user}/ogc-api/processes\"\n",
    "headers = {\"Accept\": \"application/json\", \"Content-Type\": \"application/json\"}\n",
    "headers.update(auth_dict)\n",
    "params = {\"executionUnit\": {\n",
    "            \"href\": f\"{cwl_location}\",\n",
    "            \"type\": \"application/cwl\"\n",
    "            }\n",
    "         }\n",
    "response = http.request('POST', url, headers=headers, body=json.dumps(params))\n",
    "deployStatus = response.headers['Location']\n",
    "json.loads(response.data)"
   ]
  },
  {
   "cell_type": "markdown",
   "id": "67fe3983-a769-473d-b94a-e63830759d4c",
   "metadata": {},
   "source": [
    "### Get deploy status"
   ]
  },
  {
   "cell_type": "code",
   "execution_count": 10,
   "id": "c2582e0a-b05f-4e0a-a1e4-43e385421c9e",
   "metadata": {},
   "outputs": [
    {
     "data": {
      "text/plain": [
       "{'id': 'water-bodies',\n",
       " 'title': 'Water bodies detection based on NDWI and otsu threshold',\n",
       " 'description': 'Water bodies detection based on NDWI and otsu threshold',\n",
       " 'mutable': True,\n",
       " 'version': '1.4.1',\n",
       " 'outputTransmission': ['value', 'reference'],\n",
       " 'jobControlOptions': ['async-execute', 'dismiss'],\n",
       " 'links': [{'rel': 'http://www.opengis.net/def/rel/ogc/1.0/execute',\n",
       "   'type': 'application/json',\n",
       "   'title': 'Execute End Point',\n",
       "   'href': 'https://ades.test.eodhp.eco-ke-staging.com/test_cluster/ogc-api/processes/water-bodies/execution'}],\n",
       " 'inputs': {'aoi': {'title': 'area of interest',\n",
       "   'description': 'area of interest as a bounding box',\n",
       "   'schema': {'type': 'string'}},\n",
       "  'bands': {'title': 'bands used for the NDWI',\n",
       "   'description': 'bands used for the NDWI',\n",
       "   'maxOccurs': 999,\n",
       "   'schema': {'type': 'string', 'default': \"['green', 'nir']\"}},\n",
       "  'epsg': {'title': 'EPSG code',\n",
       "   'description': 'EPSG code',\n",
       "   'schema': {'type': 'string', 'default': 'EPSG:4326'}},\n",
       "  'stac_items': {'title': 'Sentinel-2 STAC items',\n",
       "   'description': 'list of Sentinel-2 COG STAC items',\n",
       "   'maxOccurs': 999,\n",
       "   'schema': {'type': 'string'}}},\n",
       " 'outputs': {'stac': {'title': 'stac',\n",
       "   'description': 'None',\n",
       "   'extended-schema': {'oneOf': [{'allOf': [{'$ref': 'http://zoo-project.org/dl/link.json'},\n",
       "       {'type': 'object',\n",
       "        'properties': {'type': {'enum': ['application/json']}}}]},\n",
       "     {'type': 'object',\n",
       "      'required': ['value'],\n",
       "      'properties': {'value': {'oneOf': [{'type': 'object'}]}}}]},\n",
       "   'schema': {'oneOf': [{'type': 'object'}]}}}}"
      ]
     },
     "execution_count": 10,
     "metadata": {},
     "output_type": "execute_result"
    }
   ],
   "source": [
    "url = f\"{deployStatus}\"\n",
    "headers = {\"Accept\": \"application/json\"}\n",
    "headers.update(auth_dict)\n",
    "params = {}\n",
    "response = http.request('GET', url, headers=headers)\n",
    "json.loads(response.data)"
   ]
  },
  {
   "cell_type": "markdown",
   "id": "797096d6-fa56-4457-a00c-41782e71b86b",
   "metadata": {},
   "source": [
    "### Get process details"
   ]
  },
  {
   "cell_type": "code",
   "execution_count": 11,
   "id": "6bdfe9e5-cce4-459c-bd8b-8ea9b346c5c0",
   "metadata": {},
   "outputs": [
    {
     "data": {
      "text/plain": [
       "{'id': 'water-bodies',\n",
       " 'title': 'Water bodies detection based on NDWI and otsu threshold',\n",
       " 'description': 'Water bodies detection based on NDWI and otsu threshold',\n",
       " 'mutable': True,\n",
       " 'version': '1.4.1',\n",
       " 'outputTransmission': ['value', 'reference'],\n",
       " 'jobControlOptions': ['async-execute', 'dismiss'],\n",
       " 'links': [{'rel': 'http://www.opengis.net/def/rel/ogc/1.0/execute',\n",
       "   'type': 'application/json',\n",
       "   'title': 'Execute End Point',\n",
       "   'href': 'https://ades.test.eodhp.eco-ke-staging.com/test_cluster/ogc-api/processes/water-bodies/execution'}],\n",
       " 'inputs': {'aoi': {'title': 'area of interest',\n",
       "   'description': 'area of interest as a bounding box',\n",
       "   'schema': {'type': 'string'}},\n",
       "  'bands': {'title': 'bands used for the NDWI',\n",
       "   'description': 'bands used for the NDWI',\n",
       "   'maxOccurs': 999,\n",
       "   'schema': {'type': 'string', 'default': \"['green', 'nir']\"}},\n",
       "  'epsg': {'title': 'EPSG code',\n",
       "   'description': 'EPSG code',\n",
       "   'schema': {'type': 'string', 'default': 'EPSG:4326'}},\n",
       "  'stac_items': {'title': 'Sentinel-2 STAC items',\n",
       "   'description': 'list of Sentinel-2 COG STAC items',\n",
       "   'maxOccurs': 999,\n",
       "   'schema': {'type': 'string'}}},\n",
       " 'outputs': {'stac': {'title': 'stac',\n",
       "   'description': 'None',\n",
       "   'extended-schema': {'oneOf': [{'allOf': [{'$ref': 'http://zoo-project.org/dl/link.json'},\n",
       "       {'type': 'object',\n",
       "        'properties': {'type': {'enum': ['application/json']}}}]},\n",
       "     {'type': 'object',\n",
       "      'required': ['value'],\n",
       "      'properties': {'value': {'oneOf': [{'type': 'object'}]}}}]},\n",
       "   'schema': {'oneOf': [{'type': 'object'}]}}}}"
      ]
     },
     "execution_count": 11,
     "metadata": {},
     "output_type": "execute_result"
    }
   ],
   "source": [
    "url = f\"https://{ades_endpoint}/{user}/ogc-api/processes/{process_name}\"\n",
    "headers = {\"Accept\": \"application/json\"}\n",
    "headers.update(auth_dict)\n",
    "params = {}\n",
    "response = http.request('GET', url, headers=headers)\n",
    "json.loads(response.data)"
   ]
  },
  {
   "cell_type": "markdown",
   "id": "68d5af43-8025-4b63-b576-c7b2dfb6f4cb",
   "metadata": {},
   "source": [
    "### Execute process"
   ]
  },
  {
   "cell_type": "code",
   "execution_count": 12,
   "id": "67bae0a8-3adb-4d70-8911-cdc65c10cfc5",
   "metadata": {},
   "outputs": [
    {
     "name": "stdout",
     "output_type": "stream",
     "text": [
      "{\"inputs\": {\"stac_items\": [\"https://earth-search.aws.element84.com/v0/collections/sentinel-s2-l2a-cogs/items/S2B_10TFK_20210713_0_L2A\", \"https://earth-search.aws.element84.com/v0/collections/sentinel-s2-l2a-cogs/items/S2A_10TFK_20220524_0_L2A\"], \"aoi\": \"-121.399,39.834,-120.74,40.472\", \"epsg\": \"EPSG:4326\", \"bands\": [\"green\", \"nir\"]}}\n"
     ]
    },
    {
     "data": {
      "text/plain": [
       "{'jobID': '03859658-e5d5-11ee-bb53-128be50dffcf',\n",
       " 'type': 'process',\n",
       " 'processID': 'water-bodies',\n",
       " 'created': '2024-03-19T09:42:34.766Z',\n",
       " 'started': '2024-03-19T09:42:34.766Z',\n",
       " 'updated': '2024-03-19T09:42:34.766Z',\n",
       " 'status': 'running',\n",
       " 'message': 'ZOO-Kernel accepted to run your service!',\n",
       " 'links': [{'title': 'Status location',\n",
       "   'rel': 'status',\n",
       "   'type': 'application/json',\n",
       "   'href': 'https://ades.test.eodhp.eco-ke-staging.com/test_cluster/ogc-api/jobs/03859658-e5d5-11ee-bb53-128be50dffcf'}]}"
      ]
     },
     "execution_count": 12,
     "metadata": {},
     "output_type": "execute_result"
    }
   ],
   "source": [
    "url = f\"https://{ades_endpoint}/{user}/ogc-api/processes/{process_name}/execution\"\n",
    "headers = {\"Accept\": \"application/json\", \"Content-Type\": \"application/json\", \"Prefer\": \"respond-async\"}\n",
    "headers.update(auth_dict)\n",
    "params = {**inputs_dict}\n",
    "print(json.dumps(params))\n",
    "time.sleep(5)\n",
    "response = http.request('POST', url, headers=headers, body=json.dumps(params))\n",
    "executeStatus = response.headers['Location']\n",
    "json.loads(response.data)"
   ]
  },
  {
   "cell_type": "markdown",
   "id": "7f5696ce-f6fe-4811-9762-da23cdb596bc",
   "metadata": {},
   "source": [
    "### Get execute status\n",
    "See the following section to continually poll this function instead to determine once complete"
   ]
  },
  {
   "cell_type": "code",
   "execution_count": 13,
   "id": "d15329a7-07a8-46e8-bbb3-a73f6d86b55c",
   "metadata": {},
   "outputs": [
    {
     "data": {
      "text/plain": [
       "{'progress': 10,\n",
       " 'jobID': '03859658-e5d5-11ee-bb53-128be50dffcf',\n",
       " 'type': 'process',\n",
       " 'processID': 'water-bodies',\n",
       " 'created': '2024-03-19T09:42:34.766Z',\n",
       " 'started': '2024-03-19T09:42:34.766Z',\n",
       " 'updated': '2024-03-19T09:42:36.303Z',\n",
       " 'status': 'running',\n",
       " 'message': 'workflow wrapped, creating processing environment',\n",
       " 'links': [{'title': 'Status location',\n",
       "   'rel': 'status',\n",
       "   'type': 'application/json',\n",
       "   'href': 'https://ades.test.eodhp.eco-ke-staging.com/test_cluster/ogc-api/jobs/03859658-e5d5-11ee-bb53-128be50dffcf'}]}"
      ]
     },
     "execution_count": 13,
     "metadata": {},
     "output_type": "execute_result"
    }
   ],
   "source": [
    "url = f\"{executeStatus}\"\n",
    "headers = {\"Accept\": \"application/json\"}\n",
    "headers.update(auth_dict)\n",
    "params = {}\n",
    "time.sleep(5)\n",
    "response = http.request('GET', url, headers=headers)\n",
    "json.loads(response.data)"
   ]
  },
  {
   "cell_type": "markdown",
   "id": "381b12ba-a9bc-443f-b8d8-cf8f05d55563",
   "metadata": {},
   "source": [
    "### Get execute status (continuous polling)\n",
    "Run this cell to keep polling the ExecuteStatus endpoint to determine when the process has finished running and also see it's final status: *SUCCESS* or *FAILED*"
   ]
  },
  {
   "cell_type": "code",
   "execution_count": 14,
   "id": "7917701a-9a07-44ee-946f-571258a0828c",
   "metadata": {},
   "outputs": [
    {
     "name": "stdout",
     "output_type": "stream",
     "text": [
      "Status is \u001b[94mRUNNING\u001b[0m\n",
      "Message is \u001b[1mworkflow wrapped, creating processing environment\u001b[0m...........\n",
      "Message is \u001b[1mprocessing environment created, preparing execution\u001b[0m......\n",
      "Message is \u001b[1mexecution submitted\u001b[0m...............................................\n",
      "Message is \u001b[1mdelivering outputs, logs and usage report\u001b[0m.....\n",
      "\n",
      "Status is \u001b[94mSUCCESSFUL\u001b[0m\n",
      "Message is \u001b[1mZOO-Kernel successfully run your service!\u001b[0m\n",
      "\n",
      "\u001b[92mSUCCESS\u001b[0m\n"
     ]
    }
   ],
   "source": [
    "url = f\"{executeStatus}\"\n",
    "headers = {\"Accept\": \"application/json\"}\n",
    "headers.update(auth_dict)\n",
    "params = {}\n",
    "response = http.request('GET', url, headers=headers)\n",
    "data = json.loads(response.data)\n",
    "status = data['status']\n",
    "message = data['message']\n",
    "print(\"Status is \" + bcolors.OKBLUE + status.upper() + bcolors.ENDC)\n",
    "print(\"Message is \" + \"\\033[1m\" + message + \"\\033[0m\", end=\"\")\n",
    "old_message = message\n",
    "old_status = status\n",
    "while status == \"running\":\n",
    "    time.sleep(2)\n",
    "    response = http.request('GET', url, headers=headers)\n",
    "    data = json.loads(response.data)\n",
    "    status = data['status']\n",
    "    message = data['message']\n",
    "    if status != old_status:\n",
    "        print(\"\\n\")\n",
    "        print(\"Status is \" + bcolors.OKBLUE + status.upper() + bcolors.ENDC)\n",
    "        print(\"Message is \" + \"\\033[1m\" + message + \"\\033[0m\", end=\"\")\n",
    "    elif message != old_message:\n",
    "        print(\".\")\n",
    "        print(\"Message is \" + \"\\033[1m\" + message + \"\\033[0m\", end=\"\")\n",
    "    else:\n",
    "        print(\".\", end=\"\")\n",
    "    old_message = message\n",
    "    old_status = status\n",
    "\n",
    "if status == \"successful\":\n",
    "    print(\"\\n\")\n",
    "    print(bcolors.OKGREEN + \"SUCCESS\" + bcolors.ENDC)\n",
    "\n",
    "if status == \"failed\":\n",
    "    print(bcolors.WARNING + \"FAILED\" + bcolors.ENDC)"
   ]
  },
  {
   "cell_type": "markdown",
   "id": "e8927829-7ecc-448e-b65e-01a6855a7cb2",
   "metadata": {},
   "source": [
    "### Get processing results"
   ]
  },
  {
   "cell_type": "code",
   "execution_count": 15,
   "id": "c7a11be6-bf48-4229-9cb8-416b5fcafed5",
   "metadata": {},
   "outputs": [
    {
     "data": {
      "text/plain": [
       "{'type': 'Collection',\n",
       " 'id': '03859658-e5d5-11ee-bb53-128be50dffcf',\n",
       " 'stac_version': '1.0.0',\n",
       " 'description': 'description',\n",
       " 'links': [{'rel': 'root',\n",
       "   'href': 's3://eodhp-ades/processing-results/03859658-e5d5-11ee-bb53-128be50dffcf/catalog.json',\n",
       "   'type': 'application/json'},\n",
       "  {'rel': 'item',\n",
       "   'href': 's3://eodhp-ades/processing-results/03859658-e5d5-11ee-bb53-128be50dffcf/03859658-e5d5-11ee-bb53-128be50dffcf/S2B_10TFK_20210713_0_L2A/S2B_10TFK_20210713_0_L2A.json',\n",
       "   'type': 'application/json'},\n",
       "  {'rel': 'item',\n",
       "   'href': 's3://eodhp-ades/processing-results/03859658-e5d5-11ee-bb53-128be50dffcf/03859658-e5d5-11ee-bb53-128be50dffcf/S2A_10TFK_20220524_0_L2A/S2A_10TFK_20220524_0_L2A.json',\n",
       "   'type': 'application/json'},\n",
       "  {'rel': 'self',\n",
       "   'href': 's3://eodhp-ades/processing-results/03859658-e5d5-11ee-bb53-128be50dffcf/03859658-e5d5-11ee-bb53-128be50dffcf/collection.json',\n",
       "   'type': 'application/json'},\n",
       "  {'rel': 'parent',\n",
       "   'href': 's3://eodhp-ades/processing-results/03859658-e5d5-11ee-bb53-128be50dffcf/catalog.json',\n",
       "   'type': 'application/json'}],\n",
       " 'title': 'Processing results',\n",
       " 'extent': {'spatial': {'bbox': [[-121.39905410179915,\n",
       "     39.82336095080461,\n",
       "     -120.73995321724426,\n",
       "     40.482798837728375]]},\n",
       "  'temporal': {'interval': [['2021-07-13T19:03:24Z',\n",
       "     '2022-05-24T19:03:29Z']]}},\n",
       " 'license': 'proprietary',\n",
       " 'keywords': ['eoepca']}"
      ]
     },
     "execution_count": 15,
     "metadata": {},
     "output_type": "execute_result"
    }
   ],
   "source": [
    "## Note, this will return a 500 response when no output is produced\n",
    "url = f\"{executeStatus}/results\"\n",
    "headers = {\"Accept\": \"application/json\"}\n",
    "headers.update(auth_dict)\n",
    "params = {}\n",
    "response = http.request('GET', url, headers=headers)\n",
    "json.loads(response.data)"
   ]
  },
  {
   "cell_type": "markdown",
   "id": "4680016d-6f5b-47a1-878c-657100e43b16",
   "metadata": {},
   "source": [
    "### List jobs"
   ]
  },
  {
   "cell_type": "code",
   "execution_count": 16,
   "id": "2ff9c681-fcb4-47ae-b387-33868313fc66",
   "metadata": {},
   "outputs": [
    {
     "data": {
      "text/plain": [
       "{'jobs': [{'jobID': 'e2f8fdce-e5d1-11ee-8f27-128be50dffcf',\n",
       "   'type': 'process',\n",
       "   'processID': 'water-bodies',\n",
       "   'created': '2024-03-19T09:20:11.731Z',\n",
       "   'started': '2024-03-19T09:20:11.731Z',\n",
       "   'finished': '2024-03-19T09:23:15.365Z',\n",
       "   'updated': '2024-03-19T09:23:14.898Z',\n",
       "   'status': 'successful',\n",
       "   'message': 'ZOO-Kernel successfully run your service!',\n",
       "   'links': [{'title': 'Status location',\n",
       "     'rel': 'status',\n",
       "     'type': 'application/json',\n",
       "     'href': 'https://ades.test.eodhp.eco-ke-staging.com/test_cluster/ogc-api/jobs/e2f8fdce-e5d1-11ee-8f27-128be50dffcf'},\n",
       "    {'title': 'Result location',\n",
       "     'rel': 'http://www.opengis.net/def/rel/ogc/1.0/results',\n",
       "     'type': 'application/json',\n",
       "     'href': 'https://ades.test.eodhp.eco-ke-staging.com/test_cluster/ogc-api/jobs/e2f8fdce-e5d1-11ee-8f27-128be50dffcf/results'},\n",
       "    {'href': 'https://ades.test.eodhp.eco-ke-staging.com/temp/water-bodies-e2f8fdce-e5d1-11ee-8f27-128be50dffcf/node_crop.log',\n",
       "     'title': 'Tool log node_crop.log',\n",
       "     'rel': 'related',\n",
       "     'type': 'text/plain'},\n",
       "    {'href': 'https://ades.test.eodhp.eco-ke-staging.com/temp/water-bodies-e2f8fdce-e5d1-11ee-8f27-128be50dffcf/node_crop_2.log',\n",
       "     'title': 'Tool log node_crop_2.log',\n",
       "     'rel': 'related',\n",
       "     'type': 'text/plain'},\n",
       "    {'href': 'https://ades.test.eodhp.eco-ke-staging.com/temp/water-bodies-e2f8fdce-e5d1-11ee-8f27-128be50dffcf/node_crop_3.log',\n",
       "     'title': 'Tool log node_crop_3.log',\n",
       "     'rel': 'related',\n",
       "     'type': 'text/plain'},\n",
       "    {'href': 'https://ades.test.eodhp.eco-ke-staging.com/temp/water-bodies-e2f8fdce-e5d1-11ee-8f27-128be50dffcf/node_normalized_difference.log',\n",
       "     'title': 'Tool log node_normalized_difference.log',\n",
       "     'rel': 'related',\n",
       "     'type': 'text/plain'},\n",
       "    {'href': 'https://ades.test.eodhp.eco-ke-staging.com/temp/water-bodies-e2f8fdce-e5d1-11ee-8f27-128be50dffcf/node_crop_4.log',\n",
       "     'title': 'Tool log node_crop_4.log',\n",
       "     'rel': 'related',\n",
       "     'type': 'text/plain'},\n",
       "    {'href': 'https://ades.test.eodhp.eco-ke-staging.com/temp/water-bodies-e2f8fdce-e5d1-11ee-8f27-128be50dffcf/node_otsu.log',\n",
       "     'title': 'Tool log node_otsu.log',\n",
       "     'rel': 'related',\n",
       "     'type': 'text/plain'},\n",
       "    {'href': 'https://ades.test.eodhp.eco-ke-staging.com/temp/water-bodies-e2f8fdce-e5d1-11ee-8f27-128be50dffcf/node_normalized_difference_2.log',\n",
       "     'title': 'Tool log node_normalized_difference_2.log',\n",
       "     'rel': 'related',\n",
       "     'type': 'text/plain'},\n",
       "    {'href': 'https://ades.test.eodhp.eco-ke-staging.com/temp/water-bodies-e2f8fdce-e5d1-11ee-8f27-128be50dffcf/node_otsu_2.log',\n",
       "     'title': 'Tool log node_otsu_2.log',\n",
       "     'rel': 'related',\n",
       "     'type': 'text/plain'},\n",
       "    {'href': 'https://ades.test.eodhp.eco-ke-staging.com/temp/water-bodies-e2f8fdce-e5d1-11ee-8f27-128be50dffcf/node_stac.log',\n",
       "     'title': 'Tool log node_stac.log',\n",
       "     'rel': 'related',\n",
       "     'type': 'text/plain'},\n",
       "    {'href': 'https://ades.test.eodhp.eco-ke-staging.com/temp/water-bodies-e2f8fdce-e5d1-11ee-8f27-128be50dffcf/node_stage_out.log',\n",
       "     'title': 'Tool log node_stage_out.log',\n",
       "     'rel': 'related',\n",
       "     'type': 'text/plain'}]},\n",
       "  {'jobID': '6ad0a194-e5d1-11ee-a03c-128be50dffcf',\n",
       "   'type': 'process',\n",
       "   'processID': 'water-bodies',\n",
       "   'created': '2024-03-19T09:16:50.033Z',\n",
       "   'started': '2024-03-19T09:16:50.033Z',\n",
       "   'finished': '2024-03-19T09:19:51.254Z',\n",
       "   'updated': '2024-03-19T09:19:50.913Z',\n",
       "   'status': 'successful',\n",
       "   'message': 'ZOO-Kernel successfully run your service!',\n",
       "   'links': [{'title': 'Status location',\n",
       "     'rel': 'status',\n",
       "     'type': 'application/json',\n",
       "     'href': 'https://ades.test.eodhp.eco-ke-staging.com/test_cluster/ogc-api/jobs/6ad0a194-e5d1-11ee-a03c-128be50dffcf'},\n",
       "    {'title': 'Result location',\n",
       "     'rel': 'http://www.opengis.net/def/rel/ogc/1.0/results',\n",
       "     'type': 'application/json',\n",
       "     'href': 'https://ades.test.eodhp.eco-ke-staging.com/test_cluster/ogc-api/jobs/6ad0a194-e5d1-11ee-a03c-128be50dffcf/results'},\n",
       "    {'href': 'https://ades.test.eodhp.eco-ke-staging.com/temp/water-bodies-6ad0a194-e5d1-11ee-a03c-128be50dffcf/node_crop.log',\n",
       "     'title': 'Tool log node_crop.log',\n",
       "     'rel': 'related',\n",
       "     'type': 'text/plain'},\n",
       "    {'href': 'https://ades.test.eodhp.eco-ke-staging.com/temp/water-bodies-6ad0a194-e5d1-11ee-a03c-128be50dffcf/node_crop_2.log',\n",
       "     'title': 'Tool log node_crop_2.log',\n",
       "     'rel': 'related',\n",
       "     'type': 'text/plain'},\n",
       "    {'href': 'https://ades.test.eodhp.eco-ke-staging.com/temp/water-bodies-6ad0a194-e5d1-11ee-a03c-128be50dffcf/node_crop_3.log',\n",
       "     'title': 'Tool log node_crop_3.log',\n",
       "     'rel': 'related',\n",
       "     'type': 'text/plain'},\n",
       "    {'href': 'https://ades.test.eodhp.eco-ke-staging.com/temp/water-bodies-6ad0a194-e5d1-11ee-a03c-128be50dffcf/node_normalized_difference.log',\n",
       "     'title': 'Tool log node_normalized_difference.log',\n",
       "     'rel': 'related',\n",
       "     'type': 'text/plain'},\n",
       "    {'href': 'https://ades.test.eodhp.eco-ke-staging.com/temp/water-bodies-6ad0a194-e5d1-11ee-a03c-128be50dffcf/node_crop_4.log',\n",
       "     'title': 'Tool log node_crop_4.log',\n",
       "     'rel': 'related',\n",
       "     'type': 'text/plain'},\n",
       "    {'href': 'https://ades.test.eodhp.eco-ke-staging.com/temp/water-bodies-6ad0a194-e5d1-11ee-a03c-128be50dffcf/node_otsu.log',\n",
       "     'title': 'Tool log node_otsu.log',\n",
       "     'rel': 'related',\n",
       "     'type': 'text/plain'},\n",
       "    {'href': 'https://ades.test.eodhp.eco-ke-staging.com/temp/water-bodies-6ad0a194-e5d1-11ee-a03c-128be50dffcf/node_normalized_difference_2.log',\n",
       "     'title': 'Tool log node_normalized_difference_2.log',\n",
       "     'rel': 'related',\n",
       "     'type': 'text/plain'},\n",
       "    {'href': 'https://ades.test.eodhp.eco-ke-staging.com/temp/water-bodies-6ad0a194-e5d1-11ee-a03c-128be50dffcf/node_otsu_2.log',\n",
       "     'title': 'Tool log node_otsu_2.log',\n",
       "     'rel': 'related',\n",
       "     'type': 'text/plain'},\n",
       "    {'href': 'https://ades.test.eodhp.eco-ke-staging.com/temp/water-bodies-6ad0a194-e5d1-11ee-a03c-128be50dffcf/node_stac.log',\n",
       "     'title': 'Tool log node_stac.log',\n",
       "     'rel': 'related',\n",
       "     'type': 'text/plain'},\n",
       "    {'href': 'https://ades.test.eodhp.eco-ke-staging.com/temp/water-bodies-6ad0a194-e5d1-11ee-a03c-128be50dffcf/node_stage_out.log',\n",
       "     'title': 'Tool log node_stage_out.log',\n",
       "     'rel': 'related',\n",
       "     'type': 'text/plain'}]},\n",
       "  {'jobID': 'ce1e96e2-e5d2-11ee-847c-128be50dffcf',\n",
       "   'type': 'process',\n",
       "   'processID': 'water-bodies',\n",
       "   'created': '2024-03-19T09:26:46.137Z',\n",
       "   'started': '2024-03-19T09:26:46.137Z',\n",
       "   'finished': '2024-03-19T09:29:48.930Z',\n",
       "   'updated': '2024-03-19T09:29:48.530Z',\n",
       "   'status': 'successful',\n",
       "   'message': 'ZOO-Kernel successfully run your service!',\n",
       "   'links': [{'title': 'Status location',\n",
       "     'rel': 'status',\n",
       "     'type': 'application/json',\n",
       "     'href': 'https://ades.test.eodhp.eco-ke-staging.com/test_cluster/ogc-api/jobs/ce1e96e2-e5d2-11ee-847c-128be50dffcf'},\n",
       "    {'title': 'Result location',\n",
       "     'rel': 'http://www.opengis.net/def/rel/ogc/1.0/results',\n",
       "     'type': 'application/json',\n",
       "     'href': 'https://ades.test.eodhp.eco-ke-staging.com/test_cluster/ogc-api/jobs/ce1e96e2-e5d2-11ee-847c-128be50dffcf/results'},\n",
       "    {'href': 'https://ades.test.eodhp.eco-ke-staging.com/temp/water-bodies-ce1e96e2-e5d2-11ee-847c-128be50dffcf/node_crop_2.log',\n",
       "     'title': 'Tool log node_crop_2.log',\n",
       "     'rel': 'related',\n",
       "     'type': 'text/plain'},\n",
       "    {'href': 'https://ades.test.eodhp.eco-ke-staging.com/temp/water-bodies-ce1e96e2-e5d2-11ee-847c-128be50dffcf/node_crop.log',\n",
       "     'title': 'Tool log node_crop.log',\n",
       "     'rel': 'related',\n",
       "     'type': 'text/plain'},\n",
       "    {'href': 'https://ades.test.eodhp.eco-ke-staging.com/temp/water-bodies-ce1e96e2-e5d2-11ee-847c-128be50dffcf/node_crop_3.log',\n",
       "     'title': 'Tool log node_crop_3.log',\n",
       "     'rel': 'related',\n",
       "     'type': 'text/plain'},\n",
       "    {'href': 'https://ades.test.eodhp.eco-ke-staging.com/temp/water-bodies-ce1e96e2-e5d2-11ee-847c-128be50dffcf/node_normalized_difference.log',\n",
       "     'title': 'Tool log node_normalized_difference.log',\n",
       "     'rel': 'related',\n",
       "     'type': 'text/plain'},\n",
       "    {'href': 'https://ades.test.eodhp.eco-ke-staging.com/temp/water-bodies-ce1e96e2-e5d2-11ee-847c-128be50dffcf/node_crop_4.log',\n",
       "     'title': 'Tool log node_crop_4.log',\n",
       "     'rel': 'related',\n",
       "     'type': 'text/plain'},\n",
       "    {'href': 'https://ades.test.eodhp.eco-ke-staging.com/temp/water-bodies-ce1e96e2-e5d2-11ee-847c-128be50dffcf/node_otsu.log',\n",
       "     'title': 'Tool log node_otsu.log',\n",
       "     'rel': 'related',\n",
       "     'type': 'text/plain'},\n",
       "    {'href': 'https://ades.test.eodhp.eco-ke-staging.com/temp/water-bodies-ce1e96e2-e5d2-11ee-847c-128be50dffcf/node_normalized_difference_2.log',\n",
       "     'title': 'Tool log node_normalized_difference_2.log',\n",
       "     'rel': 'related',\n",
       "     'type': 'text/plain'},\n",
       "    {'href': 'https://ades.test.eodhp.eco-ke-staging.com/temp/water-bodies-ce1e96e2-e5d2-11ee-847c-128be50dffcf/node_otsu_2.log',\n",
       "     'title': 'Tool log node_otsu_2.log',\n",
       "     'rel': 'related',\n",
       "     'type': 'text/plain'},\n",
       "    {'href': 'https://ades.test.eodhp.eco-ke-staging.com/temp/water-bodies-ce1e96e2-e5d2-11ee-847c-128be50dffcf/node_stac.log',\n",
       "     'title': 'Tool log node_stac.log',\n",
       "     'rel': 'related',\n",
       "     'type': 'text/plain'},\n",
       "    {'href': 'https://ades.test.eodhp.eco-ke-staging.com/temp/water-bodies-ce1e96e2-e5d2-11ee-847c-128be50dffcf/node_stage_out.log',\n",
       "     'title': 'Tool log node_stage_out.log',\n",
       "     'rel': 'related',\n",
       "     'type': 'text/plain'}]},\n",
       "  {'jobID': '6dec14d4-e5d2-11ee-b9af-128be50dffcf',\n",
       "   'type': 'process',\n",
       "   'processID': 'water-bodies',\n",
       "   'created': '2024-03-19T09:24:04.798Z',\n",
       "   'started': '2024-03-19T09:24:04.798Z',\n",
       "   'finished': '2024-03-19T09:27:08.417Z',\n",
       "   'updated': '2024-03-19T09:27:08.089Z',\n",
       "   'status': 'successful',\n",
       "   'message': 'ZOO-Kernel successfully run your service!',\n",
       "   'links': [{'title': 'Status location',\n",
       "     'rel': 'status',\n",
       "     'type': 'application/json',\n",
       "     'href': 'https://ades.test.eodhp.eco-ke-staging.com/test_cluster/ogc-api/jobs/6dec14d4-e5d2-11ee-b9af-128be50dffcf'},\n",
       "    {'title': 'Result location',\n",
       "     'rel': 'http://www.opengis.net/def/rel/ogc/1.0/results',\n",
       "     'type': 'application/json',\n",
       "     'href': 'https://ades.test.eodhp.eco-ke-staging.com/test_cluster/ogc-api/jobs/6dec14d4-e5d2-11ee-b9af-128be50dffcf/results'},\n",
       "    {'href': 'https://ades.test.eodhp.eco-ke-staging.com/temp/water-bodies-6dec14d4-e5d2-11ee-b9af-128be50dffcf/node_crop.log',\n",
       "     'title': 'Tool log node_crop.log',\n",
       "     'rel': 'related',\n",
       "     'type': 'text/plain'},\n",
       "    {'href': 'https://ades.test.eodhp.eco-ke-staging.com/temp/water-bodies-6dec14d4-e5d2-11ee-b9af-128be50dffcf/node_crop_2.log',\n",
       "     'title': 'Tool log node_crop_2.log',\n",
       "     'rel': 'related',\n",
       "     'type': 'text/plain'},\n",
       "    {'href': 'https://ades.test.eodhp.eco-ke-staging.com/temp/water-bodies-6dec14d4-e5d2-11ee-b9af-128be50dffcf/node_crop_3.log',\n",
       "     'title': 'Tool log node_crop_3.log',\n",
       "     'rel': 'related',\n",
       "     'type': 'text/plain'},\n",
       "    {'href': 'https://ades.test.eodhp.eco-ke-staging.com/temp/water-bodies-6dec14d4-e5d2-11ee-b9af-128be50dffcf/node_normalized_difference.log',\n",
       "     'title': 'Tool log node_normalized_difference.log',\n",
       "     'rel': 'related',\n",
       "     'type': 'text/plain'},\n",
       "    {'href': 'https://ades.test.eodhp.eco-ke-staging.com/temp/water-bodies-6dec14d4-e5d2-11ee-b9af-128be50dffcf/node_crop_4.log',\n",
       "     'title': 'Tool log node_crop_4.log',\n",
       "     'rel': 'related',\n",
       "     'type': 'text/plain'},\n",
       "    {'href': 'https://ades.test.eodhp.eco-ke-staging.com/temp/water-bodies-6dec14d4-e5d2-11ee-b9af-128be50dffcf/node_otsu.log',\n",
       "     'title': 'Tool log node_otsu.log',\n",
       "     'rel': 'related',\n",
       "     'type': 'text/plain'},\n",
       "    {'href': 'https://ades.test.eodhp.eco-ke-staging.com/temp/water-bodies-6dec14d4-e5d2-11ee-b9af-128be50dffcf/node_normalized_difference_2.log',\n",
       "     'title': 'Tool log node_normalized_difference_2.log',\n",
       "     'rel': 'related',\n",
       "     'type': 'text/plain'},\n",
       "    {'href': 'https://ades.test.eodhp.eco-ke-staging.com/temp/water-bodies-6dec14d4-e5d2-11ee-b9af-128be50dffcf/node_otsu_2.log',\n",
       "     'title': 'Tool log node_otsu_2.log',\n",
       "     'rel': 'related',\n",
       "     'type': 'text/plain'},\n",
       "    {'href': 'https://ades.test.eodhp.eco-ke-staging.com/temp/water-bodies-6dec14d4-e5d2-11ee-b9af-128be50dffcf/node_stac.log',\n",
       "     'title': 'Tool log node_stac.log',\n",
       "     'rel': 'related',\n",
       "     'type': 'text/plain'},\n",
       "    {'href': 'https://ades.test.eodhp.eco-ke-staging.com/temp/water-bodies-6dec14d4-e5d2-11ee-b9af-128be50dffcf/node_stage_out.log',\n",
       "     'title': 'Tool log node_stage_out.log',\n",
       "     'rel': 'related',\n",
       "     'type': 'text/plain'}]},\n",
       "  {'jobID': '73c4b2e8-e5d3-11ee-9e96-128be50dffcf',\n",
       "   'type': 'process',\n",
       "   'processID': 'water-bodies',\n",
       "   'created': '2024-03-19T09:31:24.097Z',\n",
       "   'started': '2024-03-19T09:31:24.097Z',\n",
       "   'finished': '2024-03-19T09:34:29.542Z',\n",
       "   'updated': '2024-03-19T09:34:29.245Z',\n",
       "   'status': 'successful',\n",
       "   'message': 'ZOO-Kernel successfully run your service!',\n",
       "   'links': [{'title': 'Status location',\n",
       "     'rel': 'status',\n",
       "     'type': 'application/json',\n",
       "     'href': 'https://ades.test.eodhp.eco-ke-staging.com/test_cluster/ogc-api/jobs/73c4b2e8-e5d3-11ee-9e96-128be50dffcf'},\n",
       "    {'title': 'Result location',\n",
       "     'rel': 'http://www.opengis.net/def/rel/ogc/1.0/results',\n",
       "     'type': 'application/json',\n",
       "     'href': 'https://ades.test.eodhp.eco-ke-staging.com/test_cluster/ogc-api/jobs/73c4b2e8-e5d3-11ee-9e96-128be50dffcf/results'},\n",
       "    {'href': 'https://ades.test.eodhp.eco-ke-staging.com/temp/water-bodies-73c4b2e8-e5d3-11ee-9e96-128be50dffcf/node_crop.log',\n",
       "     'title': 'Tool log node_crop.log',\n",
       "     'rel': 'related',\n",
       "     'type': 'text/plain'},\n",
       "    {'href': 'https://ades.test.eodhp.eco-ke-staging.com/temp/water-bodies-73c4b2e8-e5d3-11ee-9e96-128be50dffcf/node_crop_2.log',\n",
       "     'title': 'Tool log node_crop_2.log',\n",
       "     'rel': 'related',\n",
       "     'type': 'text/plain'},\n",
       "    {'href': 'https://ades.test.eodhp.eco-ke-staging.com/temp/water-bodies-73c4b2e8-e5d3-11ee-9e96-128be50dffcf/node_crop_3.log',\n",
       "     'title': 'Tool log node_crop_3.log',\n",
       "     'rel': 'related',\n",
       "     'type': 'text/plain'},\n",
       "    {'href': 'https://ades.test.eodhp.eco-ke-staging.com/temp/water-bodies-73c4b2e8-e5d3-11ee-9e96-128be50dffcf/node_normalized_difference.log',\n",
       "     'title': 'Tool log node_normalized_difference.log',\n",
       "     'rel': 'related',\n",
       "     'type': 'text/plain'},\n",
       "    {'href': 'https://ades.test.eodhp.eco-ke-staging.com/temp/water-bodies-73c4b2e8-e5d3-11ee-9e96-128be50dffcf/node_crop_4.log',\n",
       "     'title': 'Tool log node_crop_4.log',\n",
       "     'rel': 'related',\n",
       "     'type': 'text/plain'},\n",
       "    {'href': 'https://ades.test.eodhp.eco-ke-staging.com/temp/water-bodies-73c4b2e8-e5d3-11ee-9e96-128be50dffcf/node_otsu.log',\n",
       "     'title': 'Tool log node_otsu.log',\n",
       "     'rel': 'related',\n",
       "     'type': 'text/plain'},\n",
       "    {'href': 'https://ades.test.eodhp.eco-ke-staging.com/temp/water-bodies-73c4b2e8-e5d3-11ee-9e96-128be50dffcf/node_normalized_difference_2.log',\n",
       "     'title': 'Tool log node_normalized_difference_2.log',\n",
       "     'rel': 'related',\n",
       "     'type': 'text/plain'},\n",
       "    {'href': 'https://ades.test.eodhp.eco-ke-staging.com/temp/water-bodies-73c4b2e8-e5d3-11ee-9e96-128be50dffcf/node_otsu_2.log',\n",
       "     'title': 'Tool log node_otsu_2.log',\n",
       "     'rel': 'related',\n",
       "     'type': 'text/plain'},\n",
       "    {'href': 'https://ades.test.eodhp.eco-ke-staging.com/temp/water-bodies-73c4b2e8-e5d3-11ee-9e96-128be50dffcf/node_stac.log',\n",
       "     'title': 'Tool log node_stac.log',\n",
       "     'rel': 'related',\n",
       "     'type': 'text/plain'},\n",
       "    {'href': 'https://ades.test.eodhp.eco-ke-staging.com/temp/water-bodies-73c4b2e8-e5d3-11ee-9e96-128be50dffcf/node_stage_out.log',\n",
       "     'title': 'Tool log node_stage_out.log',\n",
       "     'rel': 'related',\n",
       "     'type': 'text/plain'}]},\n",
       "  {'jobID': '03859658-e5d5-11ee-bb53-128be50dffcf',\n",
       "   'type': 'process',\n",
       "   'processID': 'water-bodies',\n",
       "   'created': '2024-03-19T09:42:34.766Z',\n",
       "   'started': '2024-03-19T09:42:34.766Z',\n",
       "   'finished': '2024-03-19T09:45:38.125Z',\n",
       "   'updated': '2024-03-19T09:45:37.843Z',\n",
       "   'status': 'successful',\n",
       "   'message': 'ZOO-Kernel successfully run your service!',\n",
       "   'links': [{'title': 'Status location',\n",
       "     'rel': 'status',\n",
       "     'type': 'application/json',\n",
       "     'href': 'https://ades.test.eodhp.eco-ke-staging.com/test_cluster/ogc-api/jobs/03859658-e5d5-11ee-bb53-128be50dffcf'},\n",
       "    {'title': 'Result location',\n",
       "     'rel': 'http://www.opengis.net/def/rel/ogc/1.0/results',\n",
       "     'type': 'application/json',\n",
       "     'href': 'https://ades.test.eodhp.eco-ke-staging.com/test_cluster/ogc-api/jobs/03859658-e5d5-11ee-bb53-128be50dffcf/results'}]}],\n",
       " 'links': [{'rel': 'self',\n",
       "   'type': 'application/json',\n",
       "   'href': 'https://ades.test.eodhp.eco-ke-staging.com/test_cluster/ogc-api/jobs'}],\n",
       " 'numberTotal': 6}"
      ]
     },
     "execution_count": 16,
     "metadata": {},
     "output_type": "execute_result"
    }
   ],
   "source": [
    "url = f\"https://{ades_endpoint}/{user}/ogc-api/jobs\"\n",
    "headers = {\"Accept\": \"application/json\"}\n",
    "headers.update(auth_dict)\n",
    "params = {}\n",
    "response = http.request('GET', url, headers=headers)\n",
    "json.loads(response.data)"
   ]
  },
  {
   "cell_type": "markdown",
   "id": "afdaf4c0-9f38-4a70-bedf-4d0f8f37af1c",
   "metadata": {},
   "source": [
    "### Undeploy/Delete process"
   ]
  },
  {
   "cell_type": "code",
   "execution_count": 17,
   "id": "8f8537dd-d0f8-4916-aae7-6d46f1a48d2f",
   "metadata": {},
   "outputs": [
    {
     "data": {
      "text/plain": [
       "204"
      ]
     },
     "execution_count": 17,
     "metadata": {},
     "output_type": "execute_result"
    }
   ],
   "source": [
    "## Here a 204 response means the process was remove successfully, no other content is returned\n",
    "url = f\"https://{ades_endpoint}/{user}/ogc-api/processes/{process_name}\"\n",
    "headers = {\"Accept\": \"application/json\"}\n",
    "headers.update(auth_dict)\n",
    "params = {}\n",
    "response = http.request('DELETE', url, headers=headers)\n",
    "response.status\n"
   ]
  }
 ],
 "metadata": {
  "kernelspec": {
   "display_name": "Python 3 (ipykernel)",
   "language": "python",
   "name": "python3"
  },
  "language_info": {
   "codemirror_mode": {
    "name": "ipython",
    "version": 3
   },
   "file_extension": ".py",
   "mimetype": "text/x-python",
   "name": "python",
   "nbconvert_exporter": "python",
   "pygments_lexer": "ipython3",
   "version": "3.9.18"
  }
 },
 "nbformat": 4,
 "nbformat_minor": 5
}
